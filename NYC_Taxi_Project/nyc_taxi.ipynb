{
 "cells": [
  {
   "cell_type": "code",
   "execution_count": 1,
   "metadata": {
    "id": "hvg5H0eJtr1T"
   },
   "outputs": [],
   "source": [
    "import pyarrow.parquet as pq\n",
    "import numpy as np\n",
    "import pandas as pd\n",
    "import matplotlib.pyplot as plt\n",
    "import seaborn as sns"
   ]
  },
  {
   "cell_type": "code",
   "execution_count": 33,
   "metadata": {},
   "outputs": [],
   "source": [
    "#ignore\n",
    "#%config Completer.use_jedi = False"
   ]
  },
  {
   "cell_type": "code",
   "execution_count": null,
   "metadata": {
    "colab": {
     "base_uri": "https://localhost:8080/",
     "height": 37
    },
    "id": "_3MZ6C132MRp",
    "outputId": "7b2f3fed-2e9d-4695-e562-9261df82c043"
   },
   "outputs": [
    {
     "data": {
      "text/html": [
       "\n",
       "     <input type=\"file\" id=\"files-ce715383-65bb-4e7c-a59d-f586b0a4fbb0\" name=\"files[]\" multiple disabled\n",
       "        style=\"border:none\" />\n",
       "     <output id=\"result-ce715383-65bb-4e7c-a59d-f586b0a4fbb0\">\n",
       "      Upload widget is only available when the cell has been executed in the\n",
       "      current browser session. Please rerun this cell to enable.\n",
       "      </output>\n",
       "      <script>// Copyright 2017 Google LLC\n",
       "//\n",
       "// Licensed under the Apache License, Version 2.0 (the \"License\");\n",
       "// you may not use this file except in compliance with the License.\n",
       "// You may obtain a copy of the License at\n",
       "//\n",
       "//      http://www.apache.org/licenses/LICENSE-2.0\n",
       "//\n",
       "// Unless required by applicable law or agreed to in writing, software\n",
       "// distributed under the License is distributed on an \"AS IS\" BASIS,\n",
       "// WITHOUT WARRANTIES OR CONDITIONS OF ANY KIND, either express or implied.\n",
       "// See the License for the specific language governing permissions and\n",
       "// limitations under the License.\n",
       "\n",
       "/**\n",
       " * @fileoverview Helpers for google.colab Python module.\n",
       " */\n",
       "(function(scope) {\n",
       "function span(text, styleAttributes = {}) {\n",
       "  const element = document.createElement('span');\n",
       "  element.textContent = text;\n",
       "  for (const key of Object.keys(styleAttributes)) {\n",
       "    element.style[key] = styleAttributes[key];\n",
       "  }\n",
       "  return element;\n",
       "}\n",
       "\n",
       "// Max number of bytes which will be uploaded at a time.\n",
       "const MAX_PAYLOAD_SIZE = 100 * 1024;\n",
       "\n",
       "function _uploadFiles(inputId, outputId) {\n",
       "  const steps = uploadFilesStep(inputId, outputId);\n",
       "  const outputElement = document.getElementById(outputId);\n",
       "  // Cache steps on the outputElement to make it available for the next call\n",
       "  // to uploadFilesContinue from Python.\n",
       "  outputElement.steps = steps;\n",
       "\n",
       "  return _uploadFilesContinue(outputId);\n",
       "}\n",
       "\n",
       "// This is roughly an async generator (not supported in the browser yet),\n",
       "// where there are multiple asynchronous steps and the Python side is going\n",
       "// to poll for completion of each step.\n",
       "// This uses a Promise to block the python side on completion of each step,\n",
       "// then passes the result of the previous step as the input to the next step.\n",
       "function _uploadFilesContinue(outputId) {\n",
       "  const outputElement = document.getElementById(outputId);\n",
       "  const steps = outputElement.steps;\n",
       "\n",
       "  const next = steps.next(outputElement.lastPromiseValue);\n",
       "  return Promise.resolve(next.value.promise).then((value) => {\n",
       "    // Cache the last promise value to make it available to the next\n",
       "    // step of the generator.\n",
       "    outputElement.lastPromiseValue = value;\n",
       "    return next.value.response;\n",
       "  });\n",
       "}\n",
       "\n",
       "/**\n",
       " * Generator function which is called between each async step of the upload\n",
       " * process.\n",
       " * @param {string} inputId Element ID of the input file picker element.\n",
       " * @param {string} outputId Element ID of the output display.\n",
       " * @return {!Iterable<!Object>} Iterable of next steps.\n",
       " */\n",
       "function* uploadFilesStep(inputId, outputId) {\n",
       "  const inputElement = document.getElementById(inputId);\n",
       "  inputElement.disabled = false;\n",
       "\n",
       "  const outputElement = document.getElementById(outputId);\n",
       "  outputElement.innerHTML = '';\n",
       "\n",
       "  const pickedPromise = new Promise((resolve) => {\n",
       "    inputElement.addEventListener('change', (e) => {\n",
       "      resolve(e.target.files);\n",
       "    });\n",
       "  });\n",
       "\n",
       "  const cancel = document.createElement('button');\n",
       "  inputElement.parentElement.appendChild(cancel);\n",
       "  cancel.textContent = 'Cancel upload';\n",
       "  const cancelPromise = new Promise((resolve) => {\n",
       "    cancel.onclick = () => {\n",
       "      resolve(null);\n",
       "    };\n",
       "  });\n",
       "\n",
       "  // Wait for the user to pick the files.\n",
       "  const files = yield {\n",
       "    promise: Promise.race([pickedPromise, cancelPromise]),\n",
       "    response: {\n",
       "      action: 'starting',\n",
       "    }\n",
       "  };\n",
       "\n",
       "  cancel.remove();\n",
       "\n",
       "  // Disable the input element since further picks are not allowed.\n",
       "  inputElement.disabled = true;\n",
       "\n",
       "  if (!files) {\n",
       "    return {\n",
       "      response: {\n",
       "        action: 'complete',\n",
       "      }\n",
       "    };\n",
       "  }\n",
       "\n",
       "  for (const file of files) {\n",
       "    const li = document.createElement('li');\n",
       "    li.append(span(file.name, {fontWeight: 'bold'}));\n",
       "    li.append(span(\n",
       "        `(${file.type || 'n/a'}) - ${file.size} bytes, ` +\n",
       "        `last modified: ${\n",
       "            file.lastModifiedDate ? file.lastModifiedDate.toLocaleDateString() :\n",
       "                                    'n/a'} - `));\n",
       "    const percent = span('0% done');\n",
       "    li.appendChild(percent);\n",
       "\n",
       "    outputElement.appendChild(li);\n",
       "\n",
       "    const fileDataPromise = new Promise((resolve) => {\n",
       "      const reader = new FileReader();\n",
       "      reader.onload = (e) => {\n",
       "        resolve(e.target.result);\n",
       "      };\n",
       "      reader.readAsArrayBuffer(file);\n",
       "    });\n",
       "    // Wait for the data to be ready.\n",
       "    let fileData = yield {\n",
       "      promise: fileDataPromise,\n",
       "      response: {\n",
       "        action: 'continue',\n",
       "      }\n",
       "    };\n",
       "\n",
       "    // Use a chunked sending to avoid message size limits. See b/62115660.\n",
       "    let position = 0;\n",
       "    do {\n",
       "      const length = Math.min(fileData.byteLength - position, MAX_PAYLOAD_SIZE);\n",
       "      const chunk = new Uint8Array(fileData, position, length);\n",
       "      position += length;\n",
       "\n",
       "      const base64 = btoa(String.fromCharCode.apply(null, chunk));\n",
       "      yield {\n",
       "        response: {\n",
       "          action: 'append',\n",
       "          file: file.name,\n",
       "          data: base64,\n",
       "        },\n",
       "      };\n",
       "\n",
       "      let percentDone = fileData.byteLength === 0 ?\n",
       "          100 :\n",
       "          Math.round((position / fileData.byteLength) * 100);\n",
       "      percent.textContent = `${percentDone}% done`;\n",
       "\n",
       "    } while (position < fileData.byteLength);\n",
       "  }\n",
       "\n",
       "  // All done.\n",
       "  yield {\n",
       "    response: {\n",
       "      action: 'complete',\n",
       "    }\n",
       "  };\n",
       "}\n",
       "\n",
       "scope.google = scope.google || {};\n",
       "scope.google.colab = scope.google.colab || {};\n",
       "scope.google.colab._files = {\n",
       "  _uploadFiles,\n",
       "  _uploadFilesContinue,\n",
       "};\n",
       "})(self);\n",
       "</script> "
      ],
      "text/plain": [
       "<IPython.core.display.HTML object>"
      ]
     },
     "metadata": {},
     "output_type": "display_data"
    }
   ],
   "source": [
    "# import io\n",
    "# from google.colab import files\n",
    "# from google.colab import drive\n",
    "\n",
    "# uploaded = files.upload()\n",
    "# drive.mount('/content/drive')"
   ]
  },
  {
   "cell_type": "markdown",
   "metadata": {},
   "source": [
    "# loading Dataset"
   ]
  },
  {
   "cell_type": "code",
   "execution_count": 76,
   "metadata": {
    "id": "ZxcsxgFCtbib"
   },
   "outputs": [
    {
     "name": "stdout",
     "output_type": "stream",
     "text": [
      "<class 'pandas.core.frame.DataFrame'>\n",
      "RangeIndex: 3066766 entries, 0 to 3066765\n",
      "Data columns (total 19 columns):\n",
      " #   Column                 Dtype         \n",
      "---  ------                 -----         \n",
      " 0   VendorID               int64         \n",
      " 1   tpep_pickup_datetime   datetime64[ns]\n",
      " 2   tpep_dropoff_datetime  datetime64[ns]\n",
      " 3   passenger_count        float64       \n",
      " 4   trip_distance          float64       \n",
      " 5   RatecodeID             float64       \n",
      " 6   store_and_fwd_flag     object        \n",
      " 7   PULocationID           int64         \n",
      " 8   DOLocationID           int64         \n",
      " 9   payment_type           int64         \n",
      " 10  fare_amount            float64       \n",
      " 11  extra                  float64       \n",
      " 12  mta_tax                float64       \n",
      " 13  tip_amount             float64       \n",
      " 14  tolls_amount           float64       \n",
      " 15  improvement_surcharge  float64       \n",
      " 16  total_amount           float64       \n",
      " 17  congestion_surcharge   float64       \n",
      " 18  airport_fee            float64       \n",
      "dtypes: datetime64[ns](2), float64(12), int64(4), object(1)\n",
      "memory usage: 444.6+ MB\n"
     ]
    }
   ],
   "source": [
    "trips = pd.read_parquet(path=\"F:/ML_Project/Datasets/NYCtaxi/yellow_tripdata_2023-01.parquet\")\n",
    "trips.info()"
   ]
  },
  {
   "cell_type": "code",
   "execution_count": 77,
   "metadata": {
    "id": "UQEpSgxjIbFf"
   },
   "outputs": [],
   "source": [
    "trips = trips.reset_index()"
   ]
  },
  {
   "cell_type": "code",
   "execution_count": 78,
   "metadata": {
    "colab": {
     "base_uri": "https://localhost:8080/",
     "height": 455
    },
    "id": "3gla7QUFIshT",
    "outputId": "d3101a9c-9b5c-4538-c149-c5390bb363fa"
   },
   "outputs": [
    {
     "data": {
      "text/html": [
       "<div>\n",
       "<style scoped>\n",
       "    .dataframe tbody tr th:only-of-type {\n",
       "        vertical-align: middle;\n",
       "    }\n",
       "\n",
       "    .dataframe tbody tr th {\n",
       "        vertical-align: top;\n",
       "    }\n",
       "\n",
       "    .dataframe thead th {\n",
       "        text-align: right;\n",
       "    }\n",
       "</style>\n",
       "<table border=\"1\" class=\"dataframe\">\n",
       "  <thead>\n",
       "    <tr style=\"text-align: right;\">\n",
       "      <th></th>\n",
       "      <th>Borough</th>\n",
       "      <th>Zone</th>\n",
       "      <th>service_zone</th>\n",
       "    </tr>\n",
       "    <tr>\n",
       "      <th>LocationID</th>\n",
       "      <th></th>\n",
       "      <th></th>\n",
       "      <th></th>\n",
       "    </tr>\n",
       "  </thead>\n",
       "  <tbody>\n",
       "    <tr>\n",
       "      <th>1</th>\n",
       "      <td>EWR</td>\n",
       "      <td>Newark Airport</td>\n",
       "      <td>EWR</td>\n",
       "    </tr>\n",
       "    <tr>\n",
       "      <th>2</th>\n",
       "      <td>Queens</td>\n",
       "      <td>Jamaica Bay</td>\n",
       "      <td>Boro Zone</td>\n",
       "    </tr>\n",
       "    <tr>\n",
       "      <th>3</th>\n",
       "      <td>Bronx</td>\n",
       "      <td>Allerton/Pelham Gardens</td>\n",
       "      <td>Boro Zone</td>\n",
       "    </tr>\n",
       "    <tr>\n",
       "      <th>4</th>\n",
       "      <td>Manhattan</td>\n",
       "      <td>Alphabet City</td>\n",
       "      <td>Yellow Zone</td>\n",
       "    </tr>\n",
       "    <tr>\n",
       "      <th>5</th>\n",
       "      <td>Staten Island</td>\n",
       "      <td>Arden Heights</td>\n",
       "      <td>Boro Zone</td>\n",
       "    </tr>\n",
       "    <tr>\n",
       "      <th>...</th>\n",
       "      <td>...</td>\n",
       "      <td>...</td>\n",
       "      <td>...</td>\n",
       "    </tr>\n",
       "    <tr>\n",
       "      <th>261</th>\n",
       "      <td>Manhattan</td>\n",
       "      <td>World Trade Center</td>\n",
       "      <td>Yellow Zone</td>\n",
       "    </tr>\n",
       "    <tr>\n",
       "      <th>262</th>\n",
       "      <td>Manhattan</td>\n",
       "      <td>Yorkville East</td>\n",
       "      <td>Yellow Zone</td>\n",
       "    </tr>\n",
       "    <tr>\n",
       "      <th>263</th>\n",
       "      <td>Manhattan</td>\n",
       "      <td>Yorkville West</td>\n",
       "      <td>Yellow Zone</td>\n",
       "    </tr>\n",
       "    <tr>\n",
       "      <th>264</th>\n",
       "      <td>Unknown</td>\n",
       "      <td>NV</td>\n",
       "      <td>NaN</td>\n",
       "    </tr>\n",
       "    <tr>\n",
       "      <th>265</th>\n",
       "      <td>Unknown</td>\n",
       "      <td>NaN</td>\n",
       "      <td>NaN</td>\n",
       "    </tr>\n",
       "  </tbody>\n",
       "</table>\n",
       "<p>265 rows × 3 columns</p>\n",
       "</div>"
      ],
      "text/plain": [
       "                  Borough                     Zone service_zone\n",
       "LocationID                                                     \n",
       "1                     EWR           Newark Airport          EWR\n",
       "2                  Queens              Jamaica Bay    Boro Zone\n",
       "3                   Bronx  Allerton/Pelham Gardens    Boro Zone\n",
       "4               Manhattan            Alphabet City  Yellow Zone\n",
       "5           Staten Island            Arden Heights    Boro Zone\n",
       "...                   ...                      ...          ...\n",
       "261             Manhattan       World Trade Center  Yellow Zone\n",
       "262             Manhattan           Yorkville East  Yellow Zone\n",
       "263             Manhattan           Yorkville West  Yellow Zone\n",
       "264               Unknown                       NV          NaN\n",
       "265               Unknown                      NaN          NaN\n",
       "\n",
       "[265 rows x 3 columns]"
      ]
     },
     "execution_count": 78,
     "metadata": {},
     "output_type": "execute_result"
    }
   ],
   "source": [
    "#load locationID lookup table\n",
    "zonedb = pd.read_csv('F:/ML_Project/Datasets/NYCtaxi/taxi+_zone_lookup.csv', header=0)\n",
    "zonedb.set_index('LocationID')"
   ]
  },
  {
   "cell_type": "markdown",
   "metadata": {
    "id": "8edCeq2J-moX"
   },
   "source": [
    "# dataset description"
   ]
  },
  {
   "cell_type": "code",
   "execution_count": 4,
   "metadata": {
    "colab": {
     "base_uri": "https://localhost:8080/",
     "height": 226
    },
    "id": "hM8ggVDy-lwt",
    "outputId": "803b8bbd-06d9-4677-cf09-fc5d36d6f6a6"
   },
   "outputs": [
    {
     "data": {
      "text/html": [
       "<div>\n",
       "<style scoped>\n",
       "    .dataframe tbody tr th:only-of-type {\n",
       "        vertical-align: middle;\n",
       "    }\n",
       "\n",
       "    .dataframe tbody tr th {\n",
       "        vertical-align: top;\n",
       "    }\n",
       "\n",
       "    .dataframe thead th {\n",
       "        text-align: right;\n",
       "    }\n",
       "</style>\n",
       "<table border=\"1\" class=\"dataframe\">\n",
       "  <thead>\n",
       "    <tr style=\"text-align: right;\">\n",
       "      <th></th>\n",
       "      <th>index</th>\n",
       "      <th>VendorID</th>\n",
       "      <th>tpep_pickup_datetime</th>\n",
       "      <th>tpep_dropoff_datetime</th>\n",
       "      <th>passenger_count</th>\n",
       "      <th>trip_distance</th>\n",
       "      <th>RatecodeID</th>\n",
       "      <th>store_and_fwd_flag</th>\n",
       "      <th>PULocationID</th>\n",
       "      <th>DOLocationID</th>\n",
       "      <th>payment_type</th>\n",
       "      <th>fare_amount</th>\n",
       "      <th>extra</th>\n",
       "      <th>mta_tax</th>\n",
       "      <th>tip_amount</th>\n",
       "      <th>tolls_amount</th>\n",
       "      <th>improvement_surcharge</th>\n",
       "      <th>total_amount</th>\n",
       "      <th>congestion_surcharge</th>\n",
       "      <th>airport_fee</th>\n",
       "    </tr>\n",
       "  </thead>\n",
       "  <tbody>\n",
       "    <tr>\n",
       "      <th>0</th>\n",
       "      <td>0</td>\n",
       "      <td>2</td>\n",
       "      <td>2023-01-01 00:32:10</td>\n",
       "      <td>2023-01-01 00:40:36</td>\n",
       "      <td>1.0</td>\n",
       "      <td>0.97</td>\n",
       "      <td>1.0</td>\n",
       "      <td>N</td>\n",
       "      <td>161</td>\n",
       "      <td>141</td>\n",
       "      <td>2</td>\n",
       "      <td>9.3</td>\n",
       "      <td>1.00</td>\n",
       "      <td>0.5</td>\n",
       "      <td>0.00</td>\n",
       "      <td>0.0</td>\n",
       "      <td>1.0</td>\n",
       "      <td>14.30</td>\n",
       "      <td>2.5</td>\n",
       "      <td>0.00</td>\n",
       "    </tr>\n",
       "    <tr>\n",
       "      <th>1</th>\n",
       "      <td>1</td>\n",
       "      <td>2</td>\n",
       "      <td>2023-01-01 00:55:08</td>\n",
       "      <td>2023-01-01 01:01:27</td>\n",
       "      <td>1.0</td>\n",
       "      <td>1.10</td>\n",
       "      <td>1.0</td>\n",
       "      <td>N</td>\n",
       "      <td>43</td>\n",
       "      <td>237</td>\n",
       "      <td>1</td>\n",
       "      <td>7.9</td>\n",
       "      <td>1.00</td>\n",
       "      <td>0.5</td>\n",
       "      <td>4.00</td>\n",
       "      <td>0.0</td>\n",
       "      <td>1.0</td>\n",
       "      <td>16.90</td>\n",
       "      <td>2.5</td>\n",
       "      <td>0.00</td>\n",
       "    </tr>\n",
       "    <tr>\n",
       "      <th>2</th>\n",
       "      <td>2</td>\n",
       "      <td>2</td>\n",
       "      <td>2023-01-01 00:25:04</td>\n",
       "      <td>2023-01-01 00:37:49</td>\n",
       "      <td>1.0</td>\n",
       "      <td>2.51</td>\n",
       "      <td>1.0</td>\n",
       "      <td>N</td>\n",
       "      <td>48</td>\n",
       "      <td>238</td>\n",
       "      <td>1</td>\n",
       "      <td>14.9</td>\n",
       "      <td>1.00</td>\n",
       "      <td>0.5</td>\n",
       "      <td>15.00</td>\n",
       "      <td>0.0</td>\n",
       "      <td>1.0</td>\n",
       "      <td>34.90</td>\n",
       "      <td>2.5</td>\n",
       "      <td>0.00</td>\n",
       "    </tr>\n",
       "    <tr>\n",
       "      <th>3</th>\n",
       "      <td>3</td>\n",
       "      <td>1</td>\n",
       "      <td>2023-01-01 00:03:48</td>\n",
       "      <td>2023-01-01 00:13:25</td>\n",
       "      <td>0.0</td>\n",
       "      <td>1.90</td>\n",
       "      <td>1.0</td>\n",
       "      <td>N</td>\n",
       "      <td>138</td>\n",
       "      <td>7</td>\n",
       "      <td>1</td>\n",
       "      <td>12.1</td>\n",
       "      <td>7.25</td>\n",
       "      <td>0.5</td>\n",
       "      <td>0.00</td>\n",
       "      <td>0.0</td>\n",
       "      <td>1.0</td>\n",
       "      <td>20.85</td>\n",
       "      <td>0.0</td>\n",
       "      <td>1.25</td>\n",
       "    </tr>\n",
       "    <tr>\n",
       "      <th>4</th>\n",
       "      <td>4</td>\n",
       "      <td>2</td>\n",
       "      <td>2023-01-01 00:10:29</td>\n",
       "      <td>2023-01-01 00:21:19</td>\n",
       "      <td>1.0</td>\n",
       "      <td>1.43</td>\n",
       "      <td>1.0</td>\n",
       "      <td>N</td>\n",
       "      <td>107</td>\n",
       "      <td>79</td>\n",
       "      <td>1</td>\n",
       "      <td>11.4</td>\n",
       "      <td>1.00</td>\n",
       "      <td>0.5</td>\n",
       "      <td>3.28</td>\n",
       "      <td>0.0</td>\n",
       "      <td>1.0</td>\n",
       "      <td>19.68</td>\n",
       "      <td>2.5</td>\n",
       "      <td>0.00</td>\n",
       "    </tr>\n",
       "  </tbody>\n",
       "</table>\n",
       "</div>"
      ],
      "text/plain": [
       "   index  VendorID tpep_pickup_datetime tpep_dropoff_datetime  \\\n",
       "0      0         2  2023-01-01 00:32:10   2023-01-01 00:40:36   \n",
       "1      1         2  2023-01-01 00:55:08   2023-01-01 01:01:27   \n",
       "2      2         2  2023-01-01 00:25:04   2023-01-01 00:37:49   \n",
       "3      3         1  2023-01-01 00:03:48   2023-01-01 00:13:25   \n",
       "4      4         2  2023-01-01 00:10:29   2023-01-01 00:21:19   \n",
       "\n",
       "   passenger_count  trip_distance  RatecodeID store_and_fwd_flag  \\\n",
       "0              1.0           0.97         1.0                  N   \n",
       "1              1.0           1.10         1.0                  N   \n",
       "2              1.0           2.51         1.0                  N   \n",
       "3              0.0           1.90         1.0                  N   \n",
       "4              1.0           1.43         1.0                  N   \n",
       "\n",
       "   PULocationID  DOLocationID  payment_type  fare_amount  extra  mta_tax  \\\n",
       "0           161           141             2          9.3   1.00      0.5   \n",
       "1            43           237             1          7.9   1.00      0.5   \n",
       "2            48           238             1         14.9   1.00      0.5   \n",
       "3           138             7             1         12.1   7.25      0.5   \n",
       "4           107            79             1         11.4   1.00      0.5   \n",
       "\n",
       "   tip_amount  tolls_amount  improvement_surcharge  total_amount  \\\n",
       "0        0.00           0.0                    1.0         14.30   \n",
       "1        4.00           0.0                    1.0         16.90   \n",
       "2       15.00           0.0                    1.0         34.90   \n",
       "3        0.00           0.0                    1.0         20.85   \n",
       "4        3.28           0.0                    1.0         19.68   \n",
       "\n",
       "   congestion_surcharge  airport_fee  \n",
       "0                   2.5         0.00  \n",
       "1                   2.5         0.00  \n",
       "2                   2.5         0.00  \n",
       "3                   0.0         1.25  \n",
       "4                   2.5         0.00  "
      ]
     },
     "execution_count": 4,
     "metadata": {},
     "output_type": "execute_result"
    }
   ],
   "source": [
    "trips.head()"
   ]
  },
  {
   "cell_type": "code",
   "execution_count": null,
   "metadata": {
    "id": "ZmWFX6_hIZHf"
   },
   "outputs": [],
   "source": []
  },
  {
   "cell_type": "markdown",
   "metadata": {
    "id": "-6tlOBgL7Sy_"
   },
   "source": [
    "# column domain attributes"
   ]
  },
  {
   "cell_type": "code",
   "execution_count": 5,
   "metadata": {
    "id": "CpfqOo7I-_bc"
   },
   "outputs": [],
   "source": [
    "vendor_id = dict({1:\"Creative Mobile Technologies, LLC\",\n",
    "                  2: \"VeriFone Inc\"})\n",
    "\n",
    "ratecodeid = dict({1: \"Standard rate\",\n",
    "                    2: \"JFK\",\n",
    "                    3: \"Newark\",\n",
    "                    4: \"Nassau or Westchester\",\n",
    "                    5: \"Negotiated fare\",\n",
    "                    6: \"Group ride\"})\n",
    "\n",
    "store_and_fwd_flag = dict({\"Y\": \"store and forward trip\",\n",
    "                    \"N\": \"not a store and forward trip\"})\n",
    "\n",
    "payment_type = dict({0: \"Credit card\",\n",
    "                    1: \"Cash\",\n",
    "                    2: \"No charge\",\n",
    "                    3: \"Dispute\",\n",
    "                    4: \"Unknown\",\n",
    "                    5: \"Voided trip\"})\n",
    "\n",
    "weekd = {1:'Monday', 2:'Tuesday', 3:'Wednesday', 4:'Thrusday', 5:\n",
    "         'Friday', 6:'Saturday', 7:'Sunday'}"
   ]
  },
  {
   "cell_type": "markdown",
   "metadata": {
    "id": "tH2yTxT6Ew_r"
   },
   "source": [
    "# Questionare -\n",
    "What we want to find?<br>\n",
    "* Most popular mode of payment by volumn?\n",
    "* Most busy days of a week?\n",
    "* Most popular pickup and dropoff location?\n",
    "* Revenue by ratecodes\n"
   ]
  },
  {
   "cell_type": "markdown",
   "metadata": {
    "id": "JYqdwSbVHf-a"
   },
   "source": [
    "# Most popular mode of payment by volumn?"
   ]
  },
  {
   "cell_type": "code",
   "execution_count": 6,
   "metadata": {
    "colab": {
     "base_uri": "https://localhost:8080/",
     "height": 206
    },
    "id": "mmGdUr6pDPmm",
    "outputId": "a18bf662-68b8-4d6f-880c-0bf40304c693"
   },
   "outputs": [
    {
     "data": {
      "text/html": [
       "<div>\n",
       "<style scoped>\n",
       "    .dataframe tbody tr th:only-of-type {\n",
       "        vertical-align: middle;\n",
       "    }\n",
       "\n",
       "    .dataframe tbody tr th {\n",
       "        vertical-align: top;\n",
       "    }\n",
       "\n",
       "    .dataframe thead th {\n",
       "        text-align: right;\n",
       "    }\n",
       "</style>\n",
       "<table border=\"1\" class=\"dataframe\">\n",
       "  <thead>\n",
       "    <tr style=\"text-align: right;\">\n",
       "      <th></th>\n",
       "      <th>index</th>\n",
       "    </tr>\n",
       "  </thead>\n",
       "  <tbody>\n",
       "    <tr>\n",
       "      <th>Cash</th>\n",
       "      <td>2411462</td>\n",
       "    </tr>\n",
       "    <tr>\n",
       "      <th>No charge</th>\n",
       "      <td>532241</td>\n",
       "    </tr>\n",
       "    <tr>\n",
       "      <th>Credit card</th>\n",
       "      <td>71743</td>\n",
       "    </tr>\n",
       "    <tr>\n",
       "      <th>Unknown</th>\n",
       "      <td>33297</td>\n",
       "    </tr>\n",
       "    <tr>\n",
       "      <th>Dispute</th>\n",
       "      <td>18023</td>\n",
       "    </tr>\n",
       "  </tbody>\n",
       "</table>\n",
       "</div>"
      ],
      "text/plain": [
       "               index\n",
       "Cash         2411462\n",
       "No charge     532241\n",
       "Credit card    71743\n",
       "Unknown        33297\n",
       "Dispute        18023"
      ]
     },
     "execution_count": 6,
     "metadata": {},
     "output_type": "execute_result"
    }
   ],
   "source": [
    "#using groupby to group on payment type\n",
    "db = trips.groupby(by=['payment_type']).count()[['index']]\n",
    "#reseting index\n",
    "db.index = list(map(lambda x: payment_type[x], db.index))\n",
    "db.sort_values(by='index', ascending=False)"
   ]
  },
  {
   "cell_type": "code",
   "execution_count": 7,
   "metadata": {
    "colab": {
     "base_uri": "https://localhost:8080/",
     "height": 428
    },
    "id": "15Va4zvRRmGW",
    "outputId": "d1308bb0-37a8-40a3-a7a3-fb26b3191a46"
   },
   "outputs": [
    {
     "data": {
      "image/png": "[encoded data removed]",
      "text/plain": [
       "<Figure size 640x480 with 1 Axes>"
      ]
     },
     "metadata": {},
     "output_type": "display_data"
    }
   ],
   "source": [
    "# visualize the numbers in pie chart\n",
    "plt.pie(db['index'], explode=[0.5,0,0,0,1], autopct='%.0f%%', labels=db.index,\n",
    "        colors=sns.color_palette('pastel', n_colors=5),\n",
    "        wedgeprops = {'linewidth': 3, 'edgecolor': 'white'},\n",
    "        textprops={'color':'black'})\n",
    "plt.title(\"Popular payment methods\")\n",
    "plt.show()"
   ]
  },
  {
   "cell_type": "code",
   "execution_count": null,
   "metadata": {
    "id": "1Pmq62qNaIoV"
   },
   "outputs": [],
   "source": []
  },
  {
   "cell_type": "markdown",
   "metadata": {
    "id": "VI7YaPLfIWtt"
   },
   "source": [
    "# Most busy days of a week?\n",
    "By number of trips"
   ]
  },
  {
   "cell_type": "code",
   "execution_count": 8,
   "metadata": {
    "colab": {
     "base_uri": "https://localhost:8080/",
     "height": 206
    },
    "id": "V0AZ9wWYIeQX",
    "outputId": "a2605ffa-a72e-472c-9fa0-bbb65e389b81"
   },
   "outputs": [
    {
     "data": {
      "text/html": [
       "<div>\n",
       "<style scoped>\n",
       "    .dataframe tbody tr th:only-of-type {\n",
       "        vertical-align: middle;\n",
       "    }\n",
       "\n",
       "    .dataframe tbody tr th {\n",
       "        vertical-align: top;\n",
       "    }\n",
       "\n",
       "    .dataframe thead th {\n",
       "        text-align: right;\n",
       "    }\n",
       "</style>\n",
       "<table border=\"1\" class=\"dataframe\">\n",
       "  <thead>\n",
       "    <tr style=\"text-align: right;\">\n",
       "      <th></th>\n",
       "      <th>index</th>\n",
       "      <th>tpep_pickup_datetime</th>\n",
       "      <th>tpep_dropoff_datetime</th>\n",
       "    </tr>\n",
       "  </thead>\n",
       "  <tbody>\n",
       "    <tr>\n",
       "      <th>0</th>\n",
       "      <td>0</td>\n",
       "      <td>2023-01-01 00:32:10</td>\n",
       "      <td>2023-01-01 00:40:36</td>\n",
       "    </tr>\n",
       "    <tr>\n",
       "      <th>1</th>\n",
       "      <td>1</td>\n",
       "      <td>2023-01-01 00:55:08</td>\n",
       "      <td>2023-01-01 01:01:27</td>\n",
       "    </tr>\n",
       "    <tr>\n",
       "      <th>2</th>\n",
       "      <td>2</td>\n",
       "      <td>2023-01-01 00:25:04</td>\n",
       "      <td>2023-01-01 00:37:49</td>\n",
       "    </tr>\n",
       "    <tr>\n",
       "      <th>3</th>\n",
       "      <td>3</td>\n",
       "      <td>2023-01-01 00:03:48</td>\n",
       "      <td>2023-01-01 00:13:25</td>\n",
       "    </tr>\n",
       "    <tr>\n",
       "      <th>4</th>\n",
       "      <td>4</td>\n",
       "      <td>2023-01-01 00:10:29</td>\n",
       "      <td>2023-01-01 00:21:19</td>\n",
       "    </tr>\n",
       "  </tbody>\n",
       "</table>\n",
       "</div>"
      ],
      "text/plain": [
       "   index tpep_pickup_datetime tpep_dropoff_datetime\n",
       "0      0  2023-01-01 00:32:10   2023-01-01 00:40:36\n",
       "1      1  2023-01-01 00:55:08   2023-01-01 01:01:27\n",
       "2      2  2023-01-01 00:25:04   2023-01-01 00:37:49\n",
       "3      3  2023-01-01 00:03:48   2023-01-01 00:13:25\n",
       "4      4  2023-01-01 00:10:29   2023-01-01 00:21:19"
      ]
     },
     "execution_count": 8,
     "metadata": {},
     "output_type": "execute_result"
    }
   ],
   "source": [
    "#copy part of trips dataset of above purpose\n",
    "bdays = trips[['index','tpep_pickup_datetime','tpep_dropoff_datetime']].copy()\n",
    "bdays.head(5)"
   ]
  },
  {
   "cell_type": "code",
   "execution_count": 9,
   "metadata": {
    "colab": {
     "base_uri": "https://localhost:8080/"
    },
    "id": "ocEvNNjQlhiM",
    "outputId": "1839fa9c-cf15-4716-e5a5-6b9f2c12543f"
   },
   "outputs": [
    {
     "name": "stdout",
     "output_type": "stream",
     "text": [
      "Whole dataset:\n",
      " tpep_pickup_datetime\n",
      "2008-12-31          2\n",
      "2009-01-31          0\n",
      "2009-02-28          0\n",
      "2009-03-31          0\n",
      "2009-04-30          0\n",
      "               ...   \n",
      "2022-10-31         11\n",
      "2022-11-30          0\n",
      "2022-12-31         25\n",
      "2023-01-31    3066718\n",
      "2023-02-28         10\n",
      "Freq: M, Name: index, Length: 171, dtype: int64\n",
      "2023 data only:  3066728 instances\n"
     ]
    }
   ],
   "source": [
    "#Data preprocessing: Removing unneccessary\n",
    "print(\"Whole dataset:\\n\", bdays.resample('M', on='tpep_pickup_datetime').count()['index'])\n",
    "\n",
    "#extracting 2023\n",
    "bdays = bdays[bdays['tpep_pickup_datetime'].dt.year == 2023]\n",
    "print(\"2023 data only: \",len(bdays), \"instances\")"
   ]
  },
  {
   "cell_type": "markdown",
   "metadata": {
    "id": "998uisTfm2_Q"
   },
   "source": [
    "### Weekday preprocess\n",
    "help in grouping according to weekdays"
   ]
  },
  {
   "cell_type": "code",
   "execution_count": 10,
   "metadata": {
    "id": "JbtSUq2vJhyL"
   },
   "outputs": [],
   "source": [
    "#add weekday column\n",
    "bdays['weekday'] = bdays['tpep_pickup_datetime'].apply(func=lambda x: x.isoweekday())"
   ]
  },
  {
   "cell_type": "code",
   "execution_count": 12,
   "metadata": {
    "colab": {
     "base_uri": "https://localhost:8080/",
     "height": 269
    },
    "id": "MUd963KMJqiU",
    "outputId": "8f473e70-4ec2-4b71-d80d-b573966d0d9f"
   },
   "outputs": [
    {
     "data": {
      "text/html": [
       "<div>\n",
       "<style scoped>\n",
       "    .dataframe tbody tr th:only-of-type {\n",
       "        vertical-align: middle;\n",
       "    }\n",
       "\n",
       "    .dataframe tbody tr th {\n",
       "        vertical-align: top;\n",
       "    }\n",
       "\n",
       "    .dataframe thead th {\n",
       "        text-align: right;\n",
       "    }\n",
       "</style>\n",
       "<table border=\"1\" class=\"dataframe\">\n",
       "  <thead>\n",
       "    <tr style=\"text-align: right;\">\n",
       "      <th></th>\n",
       "      <th>weekday</th>\n",
       "      <th>index</th>\n",
       "    </tr>\n",
       "  </thead>\n",
       "  <tbody>\n",
       "    <tr>\n",
       "      <th>1</th>\n",
       "      <td>Tuesday</td>\n",
       "      <td>490981</td>\n",
       "    </tr>\n",
       "    <tr>\n",
       "      <th>3</th>\n",
       "      <td>Thrusday</td>\n",
       "      <td>441929</td>\n",
       "    </tr>\n",
       "    <tr>\n",
       "      <th>5</th>\n",
       "      <td>Saturday</td>\n",
       "      <td>441630</td>\n",
       "    </tr>\n",
       "    <tr>\n",
       "      <th>6</th>\n",
       "      <td>Sunday</td>\n",
       "      <td>436434</td>\n",
       "    </tr>\n",
       "    <tr>\n",
       "      <th>4</th>\n",
       "      <td>Friday</td>\n",
       "      <td>434381</td>\n",
       "    </tr>\n",
       "    <tr>\n",
       "      <th>2</th>\n",
       "      <td>Wednesday</td>\n",
       "      <td>416568</td>\n",
       "    </tr>\n",
       "    <tr>\n",
       "      <th>0</th>\n",
       "      <td>Monday</td>\n",
       "      <td>404805</td>\n",
       "    </tr>\n",
       "  </tbody>\n",
       "</table>\n",
       "</div>"
      ],
      "text/plain": [
       "     weekday   index\n",
       "1    Tuesday  490981\n",
       "3   Thrusday  441929\n",
       "5   Saturday  441630\n",
       "6     Sunday  436434\n",
       "4     Friday  434381\n",
       "2  Wednesday  416568\n",
       "0     Monday  404805"
      ]
     },
     "execution_count": 12,
     "metadata": {},
     "output_type": "execute_result"
    }
   ],
   "source": [
    "#groupby weekday\n",
    "db1 = bdays.groupby(by='weekday').count()['index'].reset_index()\n",
    "db1['weekday'] = db1['weekday'].apply(lambda x: weekd[x])\n",
    "db1.sort_values(by='index', ascending=False)"
   ]
  },
  {
   "cell_type": "code",
   "execution_count": 14,
   "metadata": {
    "colab": {
     "base_uri": "https://localhost:8080/",
     "height": 122
    },
    "id": "6WTg8FfxdJiz",
    "outputId": "3818c257-6ba7-4bfe-d3e2-fd8cb97ec824"
   },
   "outputs": [
    {
     "data": {
      "image/png": "[encoded data removed]",
      "text/html": [
       "<div style=\"vertical-align: middle;\"><strong>flare</strong> </div><div class=\"cmap\"><img alt=\"flare colormap\" title=\"flare\" style=\"border: 1px solid #555;\" src=\"data:image/png;base64,iVBORw0KGgoAAAANSUhEUgAAAgAAAABACAYAAABsv8+/AAAAFHRFWHRUaXRsZQBmbGFyZSBjb2xvcm1hcPBwCaYAAAAadEVYdERlc2NyaXB0aW9uAGZsYXJlIGNvbG9ybWFwDi+gQAAAADB0RVh0QXV0aG9yAE1hdHBsb3RsaWIgdjMuNi4yLCBodHRwczovL21hdHBsb3RsaWIub3Jncc5VXwAAADJ0RVh0U29mdHdhcmUATWF0cGxvdGxpYiB2My42LjIsIGh0dHBzOi8vbWF0cGxvdGxpYi5vcmdfaMp4AAAB4UlEQVR4nO3WQXKDMBBFwSEnz41ysdxBWcQhBXgssL373RsKNBbCq7d8f32Oqqoav5e6Xfr7yVxt58ar+zX3403n7fc5e47Xvuf8d2xvp3PVzXXnn73v7Prjc87nHz9v52q59LsxbvP7Y65zy/b+MHf/9+vvTs63z2vZ3Xf7N++ryb4n3/d/bc7TnWN/fXm9Of9h/U/3ne/Zv1uv9fmz77+2XpP10/s/Obe+/7Zyfb9xbW667/Zgx/nmnOtct969//78+v7Zfofv6P7H7fP//a/9bn/+jwIA4ggAAAgkAAAgkAAAgEACAAACCQAACCQAACCQAACAQAIAAAIJAAAIJAAAIJAAAIBAAgAAAgkAAAgkAAAgkAAAgEACAAACCQAACCQAACCQAACAQAIAAAIJAAAIJAAAIJAAAIBAAgAAAgkAAAgkAAAgkAAAgEACAAACCQAACCQAACCQAACAQAIAAAIJAAAIJAAAIJAAAIBAAgAAAgkAAAgkAAAgkAAAgEACAAACCQAACCQAACCQAACAQAIAAAIJAAAIJAAAIJAAAIBAAgAAAgkAAAgkAAAgkAAAgEACAAACCQAACCQAACCQAACAQAIAAAIJAAAIJAAAIJAAAIBAAgAAAgkAAAgkAAAg0A/eZmRcQvs67gAAAABJRU5ErkJggg==\"></div><div style=\"vertical-align: middle; max-width: 514px; display: flex; justify-content: space-between;\"><div style=\"float: left;\"><div title=\"#edb081ff\" style=\"display: inline-block; width: 1em; height: 1em; margin: 0; vertical-align: middle; border: 1px solid #555; background-color: #edb081ff;\"></div> under</div><div style=\"margin: 0 auto; display: inline-block;\">bad <div title=\"#00000000\" style=\"display: inline-block; width: 1em; height: 1em; margin: 0; vertical-align: middle; border: 1px solid #555; background-color: #00000000;\"></div></div><div style=\"float: right;\">over <div title=\"#4b2362ff\" style=\"display: inline-block; width: 1em; height: 1em; margin: 0; vertical-align: middle; border: 1px solid #555; background-color: #4b2362ff;\"></div></div>"
      ],
      "text/plain": [
       "<matplotlib.colors.ListedColormap at 0x1c5b3c09360>"
      ]
     },
     "execution_count": 14,
     "metadata": {},
     "output_type": "execute_result"
    }
   ],
   "source": [
    "#choosing a colormap for bar chart illustration\n",
    "colormap = plt.get_cmap('flare')\n",
    "#mapping values to color-range from lighter to darker\n",
    "normalize = plt.Normalize(vmin=db1['index'].min(), vmax=db1['index'].max())\n",
    "colormap"
   ]
  },
  {
   "cell_type": "code",
   "execution_count": 15,
   "metadata": {
    "colab": {
     "base_uri": "https://localhost:8080/",
     "height": 564
    },
    "id": "fsaj5cQqUZ69",
    "outputId": "a6ae1404-f0bd-4573-d44a-215eaf638b2a"
   },
   "outputs": [
    {
     "data": {
      "image/png": "[encoded data removed]",
      "text/plain": [
       "<Figure size 800x600 with 2 Axes>"
      ]
     },
     "metadata": {},
     "output_type": "display_data"
    }
   ],
   "source": [
    "# visualization\n",
    "fig, ax = plt.subplots(figsize=(8,6))\n",
    "plt.barh(y=db1['weekday'], width=db1['index'],\n",
    "        color= colormap(normalize(db1['index']))\n",
    ")\n",
    "# display colorbar\n",
    "cbar = plt.colorbar(plt.cm.ScalarMappable(cmap=colormap, norm=normalize), ax=ax, orientation='vertical')\n",
    "cbar.set_label('Value')\n",
    "\n",
    "# Set labels and title\n",
    "plt.xlabel('Weekdays')\n",
    "plt.ylabel('No of Trips')\n",
    "plt.title('Most busy Weekdays of 2023')\n",
    "\n",
    "# Show the plot\n",
    "plt.show()"
   ]
  },
  {
   "cell_type": "markdown",
   "metadata": {
    "id": "6E8nS9qhoMzQ"
   },
   "source": [
    "# Most popular pickup and dropoff location?"
   ]
  },
  {
   "cell_type": "code",
   "execution_count": 16,
   "metadata": {
    "colab": {
     "base_uri": "https://localhost:8080/"
    },
    "id": "rhXCGc7MYLfr",
    "outputId": "64fcf091-ca6b-40ed-c2c5-774688ea04b1"
   },
   "outputs": [
    {
     "data": {
      "text/plain": [
       "(3066728, 4)"
      ]
     },
     "execution_count": 16,
     "metadata": {},
     "output_type": "execute_result"
    }
   ],
   "source": [
    "# extracting neccessary data\n",
    "plocs = trips[trips['tpep_pickup_datetime'].dt.year == 2023]\n",
    "plocs = plocs[['index','PULocationID','DOLocationID','tpep_pickup_datetime']].copy()\n",
    "plocs.shape"
   ]
  },
  {
   "cell_type": "code",
   "execution_count": 17,
   "metadata": {
    "colab": {
     "base_uri": "https://localhost:8080/"
    },
    "id": "ty7NT6vP8_xQ",
    "outputId": "8e7019b7-5354-4ff3-e020-3eaaf0b7b136"
   },
   "outputs": [
    {
     "name": "stdout",
     "output_type": "stream",
     "text": [
      "UNIQUE Locations:\n",
      " pickup:257\n",
      " dropoff:261\n"
     ]
    }
   ],
   "source": [
    "# unique locations\n",
    "print(f\"UNIQUE Locations:\\n pickup:{plocs.PULocationID.unique().size}\\n dropoff:{plocs.DOLocationID.unique().size}\")"
   ]
  },
  {
   "cell_type": "code",
   "execution_count": 18,
   "metadata": {
    "colab": {
     "base_uri": "https://localhost:8080/"
    },
    "id": "OuZvjNZaDojh",
    "outputId": "4a6bdca7-5845-4bbc-caaa-d268c0db9cf0"
   },
   "outputs": [
    {
     "data": {
      "text/plain": [
       "132    160025\n",
       "237    148074\n",
       "236    138391\n",
       "161    135415\n",
       "186    109226\n",
       "        ...  \n",
       "111         2\n",
       "184         2\n",
       "187         2\n",
       "199         2\n",
       "58          2\n",
       "Name: PULocationID, Length: 257, dtype: int64"
      ]
     },
     "execution_count": 18,
     "metadata": {},
     "output_type": "execute_result"
    }
   ],
   "source": [
    "#Most popular pickup\n",
    "plocs.PULocationID.value_counts()"
   ]
  },
  {
   "cell_type": "code",
   "execution_count": 19,
   "metadata": {
    "colab": {
     "base_uri": "https://localhost:8080/"
    },
    "id": "sVm_BHqdECcr",
    "outputId": "2527fbf3-43cc-410f-c4a3-28511c1807eb"
   },
   "outputs": [
    {
     "data": {
      "text/plain": [
       "236    146348\n",
       "237    132363\n",
       "161    116149\n",
       "230     89877\n",
       "170     88783\n",
       "        ...  \n",
       "187        17\n",
       "84         16\n",
       "204        14\n",
       "99          5\n",
       "105         1\n",
       "Name: DOLocationID, Length: 261, dtype: int64"
      ]
     },
     "execution_count": 19,
     "metadata": {},
     "output_type": "execute_result"
    }
   ],
   "source": [
    "#Most popular dropoff\n",
    "plocs.DOLocationID.value_counts()"
   ]
  },
  {
   "cell_type": "code",
   "execution_count": 20,
   "metadata": {
    "colab": {
     "base_uri": "https://localhost:8080/"
    },
    "id": "R9kn4HatZ1tA",
    "outputId": "fc9ff451-fcca-45fd-c659-420cde18db77"
   },
   "outputs": [
    {
     "name": "stdout",
     "output_type": "stream",
     "text": [
      "<class 'pandas.core.frame.DataFrame'>\n",
      "Int64Index: 3066728 entries, 0 to 3066765\n",
      "Data columns (total 5 columns):\n",
      " #   Column                Dtype         \n",
      "---  ------                -----         \n",
      " 0   index                 int64         \n",
      " 1   PULocationID          int64         \n",
      " 2   DOLocationID          int64         \n",
      " 3   tpep_pickup_datetime  datetime64[ns]\n",
      " 4   weekdy                int64         \n",
      "dtypes: datetime64[ns](1), int64(4)\n",
      "memory usage: 140.4 MB\n"
     ]
    }
   ],
   "source": [
    "#adding weekday attribute\n",
    "plocs['weekdy'] = plocs['tpep_pickup_datetime'].apply(lambda x : x.isoweekday())\n",
    "plocs.info()"
   ]
  },
  {
   "cell_type": "code",
   "execution_count": 24,
   "metadata": {
    "colab": {
     "base_uri": "https://localhost:8080/"
    },
    "id": "U7HE2TU_b338",
    "outputId": "dba39dd8-5daf-4384-f44b-9b33d76f4a3b"
   },
   "outputs": [
    {
     "name": "stdout",
     "output_type": "stream",
     "text": [
      "                                 count\n",
      "                                 index\n",
      "weekdy PULocationID DOLocationID      \n",
      "1      237          236           3093\n",
      "2      237          236           4247\n",
      "3      237          236           3635\n",
      "4      237          236           3616\n",
      "5      237          236           3356\n",
      "6      237          236           2407\n",
      "7      264          264           2482\n"
     ]
    }
   ],
   "source": [
    "# groupby on weekday > PickUP LocationID > DropOff location ID\n",
    "# getting weekly \n",
    "db3 = pd.pivot_table(data=plocs, index=['weekdy','PULocationID','DOLocationID'],\n",
    "               values=['index'], aggfunc=['count'])\n",
    "\n",
    "#weekly most popular trips\n",
    "max_counts = db3['count']['index'].groupby(['weekdy']).idxmax()\n",
    "db3 = db3.loc[max_counts]\n",
    "print(db3)"
   ]
  },
  {
   "cell_type": "code",
   "execution_count": 22,
   "metadata": {
    "colab": {
     "base_uri": "https://localhost:8080/"
    },
    "id": "cI-Ftak6CLBt",
    "outputId": "965fe311-7680-4da3-a3ea-037ee82727fe"
   },
   "outputs": [
    {
     "data": {
      "text/plain": [
       "PULocationID  DOLocationID\n",
       "237           236             22303\n",
       "236           237             18981\n",
       "264           264             15353\n",
       "236           236             14926\n",
       "237           237             14546\n",
       "dtype: int64"
      ]
     },
     "execution_count": 22,
     "metadata": {},
     "output_type": "execute_result"
    }
   ],
   "source": [
    "#Most popular trips in whole month\n",
    "db2 = plocs.iloc[:,1:3].value_counts()\n",
    "db2.head()"
   ]
  },
  {
   "cell_type": "code",
   "execution_count": 25,
   "metadata": {
    "colab": {
     "base_uri": "https://localhost:8080/",
     "height": 618
    },
    "id": "46ekOvQ3ZfDM",
    "outputId": "43e8edf2-756e-4cb2-9c0d-18cfa5b3134a"
   },
   "outputs": [
    {
     "data": {
      "text/html": [
       "<div>\n",
       "<style scoped>\n",
       "    .dataframe tbody tr th:only-of-type {\n",
       "        vertical-align: middle;\n",
       "    }\n",
       "\n",
       "    .dataframe tbody tr th {\n",
       "        vertical-align: top;\n",
       "    }\n",
       "\n",
       "    .dataframe thead th {\n",
       "        text-align: right;\n",
       "    }\n",
       "</style>\n",
       "<table border=\"1\" class=\"dataframe\">\n",
       "  <thead>\n",
       "    <tr style=\"text-align: right;\">\n",
       "      <th></th>\n",
       "      <th>weekdy</th>\n",
       "      <th>PULocationID</th>\n",
       "      <th>DOLocationID</th>\n",
       "      <th>Trips</th>\n",
       "      <th>LocationID dropoff</th>\n",
       "      <th>Borough dropoff</th>\n",
       "      <th>Zone dropoff</th>\n",
       "      <th>service_zone dropoff</th>\n",
       "      <th>LocationID</th>\n",
       "      <th>Borough</th>\n",
       "      <th>Zone</th>\n",
       "      <th>service_zone</th>\n",
       "    </tr>\n",
       "  </thead>\n",
       "  <tbody>\n",
       "    <tr>\n",
       "      <th>0</th>\n",
       "      <td>Monday</td>\n",
       "      <td>237</td>\n",
       "      <td>236</td>\n",
       "      <td>3093</td>\n",
       "      <td>238</td>\n",
       "      <td>Manhattan</td>\n",
       "      <td>Upper West Side North</td>\n",
       "      <td>Yellow Zone</td>\n",
       "      <td>237</td>\n",
       "      <td>Manhattan</td>\n",
       "      <td>Upper East Side South</td>\n",
       "      <td>Yellow Zone</td>\n",
       "    </tr>\n",
       "    <tr>\n",
       "      <th>1</th>\n",
       "      <td>Tuesday</td>\n",
       "      <td>237</td>\n",
       "      <td>236</td>\n",
       "      <td>4247</td>\n",
       "      <td>238</td>\n",
       "      <td>Manhattan</td>\n",
       "      <td>Upper West Side North</td>\n",
       "      <td>Yellow Zone</td>\n",
       "      <td>237</td>\n",
       "      <td>Manhattan</td>\n",
       "      <td>Upper East Side South</td>\n",
       "      <td>Yellow Zone</td>\n",
       "    </tr>\n",
       "    <tr>\n",
       "      <th>2</th>\n",
       "      <td>Wednesday</td>\n",
       "      <td>237</td>\n",
       "      <td>236</td>\n",
       "      <td>3635</td>\n",
       "      <td>238</td>\n",
       "      <td>Manhattan</td>\n",
       "      <td>Upper West Side North</td>\n",
       "      <td>Yellow Zone</td>\n",
       "      <td>237</td>\n",
       "      <td>Manhattan</td>\n",
       "      <td>Upper East Side South</td>\n",
       "      <td>Yellow Zone</td>\n",
       "    </tr>\n",
       "    <tr>\n",
       "      <th>3</th>\n",
       "      <td>Thrusday</td>\n",
       "      <td>237</td>\n",
       "      <td>236</td>\n",
       "      <td>3616</td>\n",
       "      <td>238</td>\n",
       "      <td>Manhattan</td>\n",
       "      <td>Upper West Side North</td>\n",
       "      <td>Yellow Zone</td>\n",
       "      <td>237</td>\n",
       "      <td>Manhattan</td>\n",
       "      <td>Upper East Side South</td>\n",
       "      <td>Yellow Zone</td>\n",
       "    </tr>\n",
       "    <tr>\n",
       "      <th>4</th>\n",
       "      <td>Friday</td>\n",
       "      <td>237</td>\n",
       "      <td>236</td>\n",
       "      <td>3356</td>\n",
       "      <td>238</td>\n",
       "      <td>Manhattan</td>\n",
       "      <td>Upper West Side North</td>\n",
       "      <td>Yellow Zone</td>\n",
       "      <td>237</td>\n",
       "      <td>Manhattan</td>\n",
       "      <td>Upper East Side South</td>\n",
       "      <td>Yellow Zone</td>\n",
       "    </tr>\n",
       "    <tr>\n",
       "      <th>5</th>\n",
       "      <td>Saturday</td>\n",
       "      <td>237</td>\n",
       "      <td>236</td>\n",
       "      <td>2407</td>\n",
       "      <td>238</td>\n",
       "      <td>Manhattan</td>\n",
       "      <td>Upper West Side North</td>\n",
       "      <td>Yellow Zone</td>\n",
       "      <td>237</td>\n",
       "      <td>Manhattan</td>\n",
       "      <td>Upper East Side South</td>\n",
       "      <td>Yellow Zone</td>\n",
       "    </tr>\n",
       "    <tr>\n",
       "      <th>6</th>\n",
       "      <td>Sunday</td>\n",
       "      <td>264</td>\n",
       "      <td>264</td>\n",
       "      <td>2482</td>\n",
       "      <td>265</td>\n",
       "      <td>Unknown</td>\n",
       "      <td>NaN</td>\n",
       "      <td>NaN</td>\n",
       "      <td>265</td>\n",
       "      <td>Unknown</td>\n",
       "      <td>NaN</td>\n",
       "      <td>NaN</td>\n",
       "    </tr>\n",
       "  </tbody>\n",
       "</table>\n",
       "</div>"
      ],
      "text/plain": [
       "      weekdy  PULocationID  DOLocationID  Trips  LocationID dropoff  \\\n",
       "0     Monday           237           236   3093                 238   \n",
       "1    Tuesday           237           236   4247                 238   \n",
       "2  Wednesday           237           236   3635                 238   \n",
       "3   Thrusday           237           236   3616                 238   \n",
       "4     Friday           237           236   3356                 238   \n",
       "5   Saturday           237           236   2407                 238   \n",
       "6     Sunday           264           264   2482                 265   \n",
       "\n",
       "  Borough dropoff           Zone dropoff service_zone dropoff  LocationID  \\\n",
       "0       Manhattan  Upper West Side North          Yellow Zone         237   \n",
       "1       Manhattan  Upper West Side North          Yellow Zone         237   \n",
       "2       Manhattan  Upper West Side North          Yellow Zone         237   \n",
       "3       Manhattan  Upper West Side North          Yellow Zone         237   \n",
       "4       Manhattan  Upper West Side North          Yellow Zone         237   \n",
       "5       Manhattan  Upper West Side North          Yellow Zone         237   \n",
       "6         Unknown                    NaN                  NaN         265   \n",
       "\n",
       "     Borough                   Zone service_zone  \n",
       "0  Manhattan  Upper East Side South  Yellow Zone  \n",
       "1  Manhattan  Upper East Side South  Yellow Zone  \n",
       "2  Manhattan  Upper East Side South  Yellow Zone  \n",
       "3  Manhattan  Upper East Side South  Yellow Zone  \n",
       "4  Manhattan  Upper East Side South  Yellow Zone  \n",
       "5  Manhattan  Upper East Side South  Yellow Zone  \n",
       "6    Unknown                    NaN          NaN  "
      ]
     },
     "execution_count": 25,
     "metadata": {},
     "output_type": "execute_result"
    }
   ],
   "source": [
    "#Joining DataTables\n",
    "db3 = db3.loc[max_counts]\n",
    "db3 = db3['count']['index'].reset_index(name='Trips').join(zonedb, on='PULocationID', how='inner', lsuffix=\" pickup\").join(zonedb, on='DOLocationID', how='inner', lsuffix=\" dropoff\")\n",
    "db3['weekdy'] = list(map(lambda x: weekd[x], db3['weekdy']))"
   ]
  },
  {
   "cell_type": "code",
   "execution_count": 26,
   "metadata": {
    "id": "3B6NHu_AQdbb"
   },
   "outputs": [
    {
     "data": {
      "text/html": [
       "<div>\n",
       "<style scoped>\n",
       "    .dataframe tbody tr th:only-of-type {\n",
       "        vertical-align: middle;\n",
       "    }\n",
       "\n",
       "    .dataframe tbody tr th {\n",
       "        vertical-align: top;\n",
       "    }\n",
       "\n",
       "    .dataframe thead th {\n",
       "        text-align: right;\n",
       "    }\n",
       "</style>\n",
       "<table border=\"1\" class=\"dataframe\">\n",
       "  <thead>\n",
       "    <tr style=\"text-align: right;\">\n",
       "      <th></th>\n",
       "      <th>weekdy</th>\n",
       "      <th>PULocationID</th>\n",
       "      <th>DOLocationID</th>\n",
       "      <th>Trips</th>\n",
       "      <th>LocationID dropoff</th>\n",
       "      <th>Borough dropoff</th>\n",
       "      <th>Zone dropoff</th>\n",
       "      <th>service_zone dropoff</th>\n",
       "      <th>LocationID</th>\n",
       "      <th>Borough</th>\n",
       "      <th>Zone</th>\n",
       "      <th>service_zone</th>\n",
       "    </tr>\n",
       "  </thead>\n",
       "  <tbody>\n",
       "    <tr>\n",
       "      <th>1</th>\n",
       "      <td>Tuesday</td>\n",
       "      <td>237</td>\n",
       "      <td>236</td>\n",
       "      <td>4247</td>\n",
       "      <td>238</td>\n",
       "      <td>Manhattan</td>\n",
       "      <td>Upper West Side North</td>\n",
       "      <td>Yellow Zone</td>\n",
       "      <td>237</td>\n",
       "      <td>Manhattan</td>\n",
       "      <td>Upper East Side South</td>\n",
       "      <td>Yellow Zone</td>\n",
       "    </tr>\n",
       "    <tr>\n",
       "      <th>2</th>\n",
       "      <td>Wednesday</td>\n",
       "      <td>237</td>\n",
       "      <td>236</td>\n",
       "      <td>3635</td>\n",
       "      <td>238</td>\n",
       "      <td>Manhattan</td>\n",
       "      <td>Upper West Side North</td>\n",
       "      <td>Yellow Zone</td>\n",
       "      <td>237</td>\n",
       "      <td>Manhattan</td>\n",
       "      <td>Upper East Side South</td>\n",
       "      <td>Yellow Zone</td>\n",
       "    </tr>\n",
       "    <tr>\n",
       "      <th>3</th>\n",
       "      <td>Thrusday</td>\n",
       "      <td>237</td>\n",
       "      <td>236</td>\n",
       "      <td>3616</td>\n",
       "      <td>238</td>\n",
       "      <td>Manhattan</td>\n",
       "      <td>Upper West Side North</td>\n",
       "      <td>Yellow Zone</td>\n",
       "      <td>237</td>\n",
       "      <td>Manhattan</td>\n",
       "      <td>Upper East Side South</td>\n",
       "      <td>Yellow Zone</td>\n",
       "    </tr>\n",
       "    <tr>\n",
       "      <th>4</th>\n",
       "      <td>Friday</td>\n",
       "      <td>237</td>\n",
       "      <td>236</td>\n",
       "      <td>3356</td>\n",
       "      <td>238</td>\n",
       "      <td>Manhattan</td>\n",
       "      <td>Upper West Side North</td>\n",
       "      <td>Yellow Zone</td>\n",
       "      <td>237</td>\n",
       "      <td>Manhattan</td>\n",
       "      <td>Upper East Side South</td>\n",
       "      <td>Yellow Zone</td>\n",
       "    </tr>\n",
       "    <tr>\n",
       "      <th>0</th>\n",
       "      <td>Monday</td>\n",
       "      <td>237</td>\n",
       "      <td>236</td>\n",
       "      <td>3093</td>\n",
       "      <td>238</td>\n",
       "      <td>Manhattan</td>\n",
       "      <td>Upper West Side North</td>\n",
       "      <td>Yellow Zone</td>\n",
       "      <td>237</td>\n",
       "      <td>Manhattan</td>\n",
       "      <td>Upper East Side South</td>\n",
       "      <td>Yellow Zone</td>\n",
       "    </tr>\n",
       "    <tr>\n",
       "      <th>6</th>\n",
       "      <td>Sunday</td>\n",
       "      <td>264</td>\n",
       "      <td>264</td>\n",
       "      <td>2482</td>\n",
       "      <td>265</td>\n",
       "      <td>Unknown</td>\n",
       "      <td>NaN</td>\n",
       "      <td>NaN</td>\n",
       "      <td>265</td>\n",
       "      <td>Unknown</td>\n",
       "      <td>NaN</td>\n",
       "      <td>NaN</td>\n",
       "    </tr>\n",
       "    <tr>\n",
       "      <th>5</th>\n",
       "      <td>Saturday</td>\n",
       "      <td>237</td>\n",
       "      <td>236</td>\n",
       "      <td>2407</td>\n",
       "      <td>238</td>\n",
       "      <td>Manhattan</td>\n",
       "      <td>Upper West Side North</td>\n",
       "      <td>Yellow Zone</td>\n",
       "      <td>237</td>\n",
       "      <td>Manhattan</td>\n",
       "      <td>Upper East Side South</td>\n",
       "      <td>Yellow Zone</td>\n",
       "    </tr>\n",
       "  </tbody>\n",
       "</table>\n",
       "</div>"
      ],
      "text/plain": [
       "      weekdy  PULocationID  DOLocationID  Trips  LocationID dropoff  \\\n",
       "1    Tuesday           237           236   4247                 238   \n",
       "2  Wednesday           237           236   3635                 238   \n",
       "3   Thrusday           237           236   3616                 238   \n",
       "4     Friday           237           236   3356                 238   \n",
       "0     Monday           237           236   3093                 238   \n",
       "6     Sunday           264           264   2482                 265   \n",
       "5   Saturday           237           236   2407                 238   \n",
       "\n",
       "  Borough dropoff           Zone dropoff service_zone dropoff  LocationID  \\\n",
       "1       Manhattan  Upper West Side North          Yellow Zone         237   \n",
       "2       Manhattan  Upper West Side North          Yellow Zone         237   \n",
       "3       Manhattan  Upper West Side North          Yellow Zone         237   \n",
       "4       Manhattan  Upper West Side North          Yellow Zone         237   \n",
       "0       Manhattan  Upper West Side North          Yellow Zone         237   \n",
       "6         Unknown                    NaN                  NaN         265   \n",
       "5       Manhattan  Upper West Side North          Yellow Zone         237   \n",
       "\n",
       "     Borough                   Zone service_zone  \n",
       "1  Manhattan  Upper East Side South  Yellow Zone  \n",
       "2  Manhattan  Upper East Side South  Yellow Zone  \n",
       "3  Manhattan  Upper East Side South  Yellow Zone  \n",
       "4  Manhattan  Upper East Side South  Yellow Zone  \n",
       "0  Manhattan  Upper East Side South  Yellow Zone  \n",
       "6    Unknown                    NaN          NaN  \n",
       "5  Manhattan  Upper East Side South  Yellow Zone  "
      ]
     },
     "execution_count": 26,
     "metadata": {},
     "output_type": "execute_result"
    }
   ],
   "source": [
    "db3.sort_values(by='Trips', ascending = False)"
   ]
  },
  {
   "cell_type": "markdown",
   "metadata": {},
   "source": [
    "# Revenue by Ratecodes"
   ]
  },
  {
   "cell_type": "code",
   "execution_count": 32,
   "metadata": {},
   "outputs": [
    {
     "data": {
      "text/html": [
       "<div>\n",
       "<style scoped>\n",
       "    .dataframe tbody tr th:only-of-type {\n",
       "        vertical-align: middle;\n",
       "    }\n",
       "\n",
       "    .dataframe tbody tr th {\n",
       "        vertical-align: top;\n",
       "    }\n",
       "\n",
       "    .dataframe thead th {\n",
       "        text-align: right;\n",
       "    }\n",
       "</style>\n",
       "<table border=\"1\" class=\"dataframe\">\n",
       "  <thead>\n",
       "    <tr style=\"text-align: right;\">\n",
       "      <th></th>\n",
       "      <th>index</th>\n",
       "      <th>VendorID</th>\n",
       "      <th>tpep_pickup_datetime</th>\n",
       "      <th>tpep_dropoff_datetime</th>\n",
       "      <th>passenger_count</th>\n",
       "      <th>trip_distance</th>\n",
       "      <th>RatecodeID</th>\n",
       "      <th>store_and_fwd_flag</th>\n",
       "      <th>PULocationID</th>\n",
       "      <th>DOLocationID</th>\n",
       "      <th>payment_type</th>\n",
       "      <th>fare_amount</th>\n",
       "      <th>extra</th>\n",
       "      <th>mta_tax</th>\n",
       "      <th>tip_amount</th>\n",
       "      <th>tolls_amount</th>\n",
       "      <th>improvement_surcharge</th>\n",
       "      <th>total_amount</th>\n",
       "      <th>congestion_surcharge</th>\n",
       "      <th>airport_fee</th>\n",
       "    </tr>\n",
       "  </thead>\n",
       "  <tbody>\n",
       "    <tr>\n",
       "      <th>0</th>\n",
       "      <td>0</td>\n",
       "      <td>2</td>\n",
       "      <td>2023-01-01 00:32:10</td>\n",
       "      <td>2023-01-01 00:40:36</td>\n",
       "      <td>1.0</td>\n",
       "      <td>0.97</td>\n",
       "      <td>1.0</td>\n",
       "      <td>N</td>\n",
       "      <td>161</td>\n",
       "      <td>141</td>\n",
       "      <td>2</td>\n",
       "      <td>9.3</td>\n",
       "      <td>1.00</td>\n",
       "      <td>0.5</td>\n",
       "      <td>0.00</td>\n",
       "      <td>0.0</td>\n",
       "      <td>1.0</td>\n",
       "      <td>14.30</td>\n",
       "      <td>2.5</td>\n",
       "      <td>0.00</td>\n",
       "    </tr>\n",
       "    <tr>\n",
       "      <th>1</th>\n",
       "      <td>1</td>\n",
       "      <td>2</td>\n",
       "      <td>2023-01-01 00:55:08</td>\n",
       "      <td>2023-01-01 01:01:27</td>\n",
       "      <td>1.0</td>\n",
       "      <td>1.10</td>\n",
       "      <td>1.0</td>\n",
       "      <td>N</td>\n",
       "      <td>43</td>\n",
       "      <td>237</td>\n",
       "      <td>1</td>\n",
       "      <td>7.9</td>\n",
       "      <td>1.00</td>\n",
       "      <td>0.5</td>\n",
       "      <td>4.00</td>\n",
       "      <td>0.0</td>\n",
       "      <td>1.0</td>\n",
       "      <td>16.90</td>\n",
       "      <td>2.5</td>\n",
       "      <td>0.00</td>\n",
       "    </tr>\n",
       "    <tr>\n",
       "      <th>2</th>\n",
       "      <td>2</td>\n",
       "      <td>2</td>\n",
       "      <td>2023-01-01 00:25:04</td>\n",
       "      <td>2023-01-01 00:37:49</td>\n",
       "      <td>1.0</td>\n",
       "      <td>2.51</td>\n",
       "      <td>1.0</td>\n",
       "      <td>N</td>\n",
       "      <td>48</td>\n",
       "      <td>238</td>\n",
       "      <td>1</td>\n",
       "      <td>14.9</td>\n",
       "      <td>1.00</td>\n",
       "      <td>0.5</td>\n",
       "      <td>15.00</td>\n",
       "      <td>0.0</td>\n",
       "      <td>1.0</td>\n",
       "      <td>34.90</td>\n",
       "      <td>2.5</td>\n",
       "      <td>0.00</td>\n",
       "    </tr>\n",
       "    <tr>\n",
       "      <th>3</th>\n",
       "      <td>3</td>\n",
       "      <td>1</td>\n",
       "      <td>2023-01-01 00:03:48</td>\n",
       "      <td>2023-01-01 00:13:25</td>\n",
       "      <td>0.0</td>\n",
       "      <td>1.90</td>\n",
       "      <td>1.0</td>\n",
       "      <td>N</td>\n",
       "      <td>138</td>\n",
       "      <td>7</td>\n",
       "      <td>1</td>\n",
       "      <td>12.1</td>\n",
       "      <td>7.25</td>\n",
       "      <td>0.5</td>\n",
       "      <td>0.00</td>\n",
       "      <td>0.0</td>\n",
       "      <td>1.0</td>\n",
       "      <td>20.85</td>\n",
       "      <td>0.0</td>\n",
       "      <td>1.25</td>\n",
       "    </tr>\n",
       "    <tr>\n",
       "      <th>4</th>\n",
       "      <td>4</td>\n",
       "      <td>2</td>\n",
       "      <td>2023-01-01 00:10:29</td>\n",
       "      <td>2023-01-01 00:21:19</td>\n",
       "      <td>1.0</td>\n",
       "      <td>1.43</td>\n",
       "      <td>1.0</td>\n",
       "      <td>N</td>\n",
       "      <td>107</td>\n",
       "      <td>79</td>\n",
       "      <td>1</td>\n",
       "      <td>11.4</td>\n",
       "      <td>1.00</td>\n",
       "      <td>0.5</td>\n",
       "      <td>3.28</td>\n",
       "      <td>0.0</td>\n",
       "      <td>1.0</td>\n",
       "      <td>19.68</td>\n",
       "      <td>2.5</td>\n",
       "      <td>0.00</td>\n",
       "    </tr>\n",
       "  </tbody>\n",
       "</table>\n",
       "</div>"
      ],
      "text/plain": [
       "   index  VendorID tpep_pickup_datetime tpep_dropoff_datetime  \\\n",
       "0      0         2  2023-01-01 00:32:10   2023-01-01 00:40:36   \n",
       "1      1         2  2023-01-01 00:55:08   2023-01-01 01:01:27   \n",
       "2      2         2  2023-01-01 00:25:04   2023-01-01 00:37:49   \n",
       "3      3         1  2023-01-01 00:03:48   2023-01-01 00:13:25   \n",
       "4      4         2  2023-01-01 00:10:29   2023-01-01 00:21:19   \n",
       "\n",
       "   passenger_count  trip_distance  RatecodeID store_and_fwd_flag  \\\n",
       "0              1.0           0.97         1.0                  N   \n",
       "1              1.0           1.10         1.0                  N   \n",
       "2              1.0           2.51         1.0                  N   \n",
       "3              0.0           1.90         1.0                  N   \n",
       "4              1.0           1.43         1.0                  N   \n",
       "\n",
       "   PULocationID  DOLocationID  payment_type  fare_amount  extra  mta_tax  \\\n",
       "0           161           141             2          9.3   1.00      0.5   \n",
       "1            43           237             1          7.9   1.00      0.5   \n",
       "2            48           238             1         14.9   1.00      0.5   \n",
       "3           138             7             1         12.1   7.25      0.5   \n",
       "4           107            79             1         11.4   1.00      0.5   \n",
       "\n",
       "   tip_amount  tolls_amount  improvement_surcharge  total_amount  \\\n",
       "0        0.00           0.0                    1.0         14.30   \n",
       "1        4.00           0.0                    1.0         16.90   \n",
       "2       15.00           0.0                    1.0         34.90   \n",
       "3        0.00           0.0                    1.0         20.85   \n",
       "4        3.28           0.0                    1.0         19.68   \n",
       "\n",
       "   congestion_surcharge  airport_fee  \n",
       "0                   2.5         0.00  \n",
       "1                   2.5         0.00  \n",
       "2                   2.5         0.00  \n",
       "3                   0.0         1.25  \n",
       "4                   2.5         0.00  "
      ]
     },
     "execution_count": 32,
     "metadata": {},
     "output_type": "execute_result"
    }
   ],
   "source": [
    "trips.head()"
   ]
  },
  {
   "cell_type": "code",
   "execution_count": 29,
   "metadata": {},
   "outputs": [
    {
     "data": {
      "text/plain": [
       "array([ 1.,  2.,  4., 99.,  5.,  3.,  6., nan])"
      ]
     },
     "execution_count": 29,
     "metadata": {},
     "output_type": "execute_result"
    }
   ],
   "source": [
    "# unique ratecodes\n",
    "trips['RatecodeID'].unique()"
   ]
  },
  {
   "cell_type": "code",
   "execution_count": 65,
   "metadata": {},
   "outputs": [
    {
     "data": {
      "text/html": [
       "<div>\n",
       "<style scoped>\n",
       "    .dataframe tbody tr th:only-of-type {\n",
       "        vertical-align: middle;\n",
       "    }\n",
       "\n",
       "    .dataframe tbody tr th {\n",
       "        vertical-align: top;\n",
       "    }\n",
       "\n",
       "    .dataframe thead th {\n",
       "        text-align: right;\n",
       "    }\n",
       "</style>\n",
       "<table border=\"1\" class=\"dataframe\">\n",
       "  <thead>\n",
       "    <tr style=\"text-align: right;\">\n",
       "      <th></th>\n",
       "      <th>total_amount</th>\n",
       "    </tr>\n",
       "    <tr>\n",
       "      <th>RatecodeID</th>\n",
       "      <th></th>\n",
       "    </tr>\n",
       "  </thead>\n",
       "  <tbody>\n",
       "    <tr>\n",
       "      <th>1.0</th>\n",
       "      <td>67391707.08</td>\n",
       "    </tr>\n",
       "    <tr>\n",
       "      <th>2.0</th>\n",
       "      <td>10177434.11</td>\n",
       "    </tr>\n",
       "    <tr>\n",
       "      <th>5.0</th>\n",
       "      <td>1224385.32</td>\n",
       "    </tr>\n",
       "    <tr>\n",
       "      <th>3.0</th>\n",
       "      <td>962082.50</td>\n",
       "    </tr>\n",
       "    <tr>\n",
       "      <th>4.0</th>\n",
       "      <td>523713.35</td>\n",
       "    </tr>\n",
       "    <tr>\n",
       "      <th>99.0</th>\n",
       "      <td>494942.07</td>\n",
       "    </tr>\n",
       "    <tr>\n",
       "      <th>6.0</th>\n",
       "      <td>796.65</td>\n",
       "    </tr>\n",
       "  </tbody>\n",
       "</table>\n",
       "</div>"
      ],
      "text/plain": [
       "            total_amount\n",
       "RatecodeID              \n",
       "1.0          67391707.08\n",
       "2.0          10177434.11\n",
       "5.0           1224385.32\n",
       "3.0            962082.50\n",
       "4.0            523713.35\n",
       "99.0           494942.07\n",
       "6.0               796.65"
      ]
     },
     "execution_count": 65,
     "metadata": {},
     "output_type": "execute_result"
    }
   ],
   "source": [
    "# Groupby RatecodeID on amount attribute\n",
    "db5 = trips.pivot_table(values='total_amount', index='RatecodeID', aggfunc='sum', dropna=False).sort_values(by='total_amount', ascending=False)\n",
    "db5"
   ]
  },
  {
   "cell_type": "code",
   "execution_count": 70,
   "metadata": {},
   "outputs": [
    {
     "data": {
      "image/png": "[encoded data removed]",
      "text/plain": [
       "<Figure size 800x600 with 2 Axes>"
      ]
     },
     "metadata": {},
     "output_type": "display_data"
    }
   ],
   "source": [
    "#choosing a colormap for bar chart illustration\n",
    "colormap2 = plt.get_cmap('flare')\n",
    "#mapping values to color-range from lighter to darker\n",
    "normalize2 = plt.Normalize(vmin=db5['total_amount'].min(), vmax=db5['total_amount'].max())\n",
    "\n",
    "fig, ax = plt.subplots(figsize=(8,6))\n",
    "bars = plt.bar(x=db5.index.astype('str'), height=db5['total_amount'],\n",
    "              color = colormap(normalize2(db5['total_amount'])))\n",
    "\n",
    "\n",
    "# Add values on top of bars\n",
    "values = db5['total_amount']/10000\n",
    "for bar, value in zip(bars, values):\n",
    "    if value >= 30000000:  # Display the value inside the bar if it's greater than or equal to 5\n",
    "        plt.text(bar.get_x() + bar.get_width() / 2, bar.get_height(), f\"$ {value:.2f} K\",\n",
    "                 ha='center', va='bottom', rotation='vertical')\n",
    "    else:  # Display the value above the bar if it's less than 5\n",
    "        plt.text(bar.get_x() + bar.get_width() / 2, bar.get_height(), f\"$ {value:.2f} K\",\n",
    "                 ha='center', va='bottom', fontsize=8)\n",
    "\n",
    "# display colorbar\n",
    "cbar = plt.colorbar(plt.cm.ScalarMappable(cmap=colormap2, norm=normalize2), ax=ax, orientation='vertical')\n",
    "cbar.set_label('Revenue')\n",
    "\n",
    "plt.xlabel('Ratecodes')\n",
    "plt.ylabel('revenue')\n",
    "plt.show()"
   ]
  },
  {
   "cell_type": "code",
   "execution_count": null,
   "metadata": {},
   "outputs": [],
   "source": []
  }
 ],
 "metadata": {
  "colab": {
   "collapsed_sections": [
    "-6tlOBgL7Sy_",
    "VI7YaPLfIWtt"
   ],
   "provenance": []
  },
  "kernelspec": {
   "display_name": "Python 3 (ipykernel)",
   "language": "python",
   "name": "python3"
  },
  "language_info": {
   "codemirror_mode": {
    "name": "ipython",
    "version": 3
   },
   "file_extension": ".py",
   "mimetype": "text/x-python",
   "name": "python",
   "nbconvert_exporter": "python",
   "pygments_lexer": "ipython3",
   "version": "3.10.2"
  }
 },
 "nbformat": 4,
 "nbformat_minor": 1
}
