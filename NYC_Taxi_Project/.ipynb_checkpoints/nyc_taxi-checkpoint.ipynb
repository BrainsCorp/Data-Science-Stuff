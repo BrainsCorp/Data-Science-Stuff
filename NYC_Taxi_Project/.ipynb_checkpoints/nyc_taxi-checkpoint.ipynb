{
 "cells": [
  {
   "cell_type": "code",
   "execution_count": 1,
   "metadata": {
    "id": "hvg5H0eJtr1T"
   },
   "outputs": [],
   "source": [
    "import pyarrow.parquet as pq\n",
    "import numpy as np\n",
    "import pandas as pd\n",
    "import matplotlib.pyplot as plt\n",
    "import seaborn as sns"
   ]
  },
  {
   "cell_type": "code",
   "execution_count": 2,
   "metadata": {},
   "outputs": [],
   "source": [
    "#ignore\n",
    "#%config Completer.use_jedi = False"
   ]
  },
  {
   "cell_type": "code",
   "execution_count": null,
   "metadata": {
    "colab": {
     "base_uri": "https://localhost:8080/",
     "height": 37
    },
    "id": "_3MZ6C132MRp",
    "outputId": "7b2f3fed-2e9d-4695-e562-9261df82c043"
   },
   "outputs": [],
   "source": [
    "# import io\n",
    "# from google.colab import files\n",
    "# from google.colab import drive\n",
    "\n",
    "# uploaded = files.upload()\n",
    "# drive.mount('/content/drive')"
   ]
  },
  {
   "cell_type": "markdown",
   "metadata": {},
   "source": [
    "# loading Dataset"
   ]
  },
  {
   "cell_type": "code",
   "execution_count": null,
   "metadata": {
    "id": "ZxcsxgFCtbib"
   },
   "outputs": [],
   "source": [
    "trips = pd.read_parquet(path=\"F:/ML_Project/Datasets/NYCtaxi/yellow_tripdata_2023-01.parquet\")\n",
    "trips.info()"
   ]
  },
  {
   "cell_type": "code",
   "execution_count": null,
   "metadata": {
    "id": "UQEpSgxjIbFf"
   },
   "outputs": [],
   "source": [
    "trips = trips.reset_index()"
   ]
  },
  {
   "cell_type": "code",
   "execution_count": null,
   "metadata": {
    "colab": {
     "base_uri": "https://localhost:8080/",
     "height": 455
    },
    "id": "3gla7QUFIshT",
    "outputId": "d3101a9c-9b5c-4538-c149-c5390bb363fa"
   },
   "outputs": [],
   "source": [
    "#load locationID lookup table\n",
    "zonedb = pd.read_csv('F:/ML_Project/Datasets/NYCtaxi/taxi+_zone_lookup.csv', header=0)\n",
    "zonedb.set_index('LocationID')"
   ]
  },
  {
   "cell_type": "markdown",
   "metadata": {
    "id": "8edCeq2J-moX"
   },
   "source": [
    "# dataset description"
   ]
  },
  {
   "cell_type": "code",
   "execution_count": null,
   "metadata": {
    "colab": {
     "base_uri": "https://localhost:8080/",
     "height": 226
    },
    "id": "hM8ggVDy-lwt",
    "outputId": "803b8bbd-06d9-4677-cf09-fc5d36d6f6a6"
   },
   "outputs": [],
   "source": [
    "trips.head()"
   ]
  },
  {
   "cell_type": "code",
   "execution_count": null,
   "metadata": {
    "id": "ZmWFX6_hIZHf"
   },
   "outputs": [],
   "source": []
  },
  {
   "cell_type": "markdown",
   "metadata": {
    "id": "-6tlOBgL7Sy_"
   },
   "source": [
    "# column domain attributes"
   ]
  },
  {
   "cell_type": "code",
   "execution_count": null,
   "metadata": {
    "id": "CpfqOo7I-_bc"
   },
   "outputs": [],
   "source": [
    "vendor_id = dict({1:\"Creative Mobile Technologies, LLC\",\n",
    "                  2: \"VeriFone Inc\"})\n",
    "\n",
    "ratecodeid = dict({1: \"Standard rate\",\n",
    "                    2: \"JFK\",\n",
    "                    3: \"Newark\",\n",
    "                    4: \"Nassau or Westchester\",\n",
    "                    5: \"Negotiated fare\",\n",
    "                    6: \"Group ride\"})\n",
    "\n",
    "store_and_fwd_flag = dict({\"Y\": \"store and forward trip\",\n",
    "                    \"N\": \"not a store and forward trip\"})\n",
    "\n",
    "payment_type = dict({0: \"Credit card\",\n",
    "                    1: \"Cash\",\n",
    "                    2: \"No charge\",\n",
    "                    3: \"Dispute\",\n",
    "                    4: \"Unknown\",\n",
    "                    5: \"Voided trip\"})\n",
    "\n",
    "weekd = {1:'Monday', 2:'Tuesday', 3:'Wednesday', 4:'Thrusday', 5:\n",
    "         'Friday', 6:'Saturday', 7:'Sunday'}"
   ]
  },
  {
   "cell_type": "markdown",
   "metadata": {
    "id": "tH2yTxT6Ew_r"
   },
   "source": [
    "# Questionare -\n",
    "What we want to find?<br>\n",
    "* Most popular mode of payment by volumn?\n",
    "* Most busy days of a week?\n",
    "* Most popular pickup and dropoff location?\n",
    "* Revenue by ratecodes\n"
   ]
  },
  {
   "cell_type": "markdown",
   "metadata": {
    "id": "JYqdwSbVHf-a"
   },
   "source": [
    "# Most popular mode of payment by volumn?"
   ]
  },
  {
   "cell_type": "code",
   "execution_count": null,
   "metadata": {
    "colab": {
     "base_uri": "https://localhost:8080/",
     "height": 206
    },
    "id": "mmGdUr6pDPmm",
    "outputId": "a18bf662-68b8-4d6f-880c-0bf40304c693"
   },
   "outputs": [],
   "source": [
    "#using groupby to group on payment type\n",
    "db = trips.groupby(by=['payment_type']).count()[['index']]\n",
    "#reseting index\n",
    "db.index = list(map(lambda x: payment_type[x], db.index))\n",
    "db.sort_values(by='index', ascending=False)"
   ]
  },
  {
   "cell_type": "code",
   "execution_count": null,
   "metadata": {
    "colab": {
     "base_uri": "https://localhost:8080/",
     "height": 428
    },
    "id": "15Va4zvRRmGW",
    "outputId": "d1308bb0-37a8-40a3-a7a3-fb26b3191a46"
   },
   "outputs": [],
   "source": [
    "# visualize the numbers in pie chart\n",
    "plt.pie(db['index'], explode=[0.5,0,0,0,1], autopct='%.0f%%', labels=db.index,\n",
    "        colors=sns.color_palette('pastel', n_colors=5),\n",
    "        wedgeprops = {'linewidth': 3, 'edgecolor': 'white'},\n",
    "        textprops={'color':'black'})\n",
    "plt.title(\"Popular payment methods\")\n",
    "plt.show()"
   ]
  },
  {
   "cell_type": "code",
   "execution_count": null,
   "metadata": {
    "id": "1Pmq62qNaIoV"
   },
   "outputs": [],
   "source": []
  },
  {
   "cell_type": "markdown",
   "metadata": {
    "id": "VI7YaPLfIWtt"
   },
   "source": [
    "# Most busy days of a week?\n",
    "By number of trips"
   ]
  },
  {
   "cell_type": "code",
   "execution_count": null,
   "metadata": {
    "colab": {
     "base_uri": "https://localhost:8080/",
     "height": 206
    },
    "id": "V0AZ9wWYIeQX",
    "outputId": "a2605ffa-a72e-472c-9fa0-bbb65e389b81"
   },
   "outputs": [],
   "source": [
    "#copy part of trips dataset of above purpose\n",
    "bdays = trips[['index','tpep_pickup_datetime','tpep_dropoff_datetime']].copy()\n",
    "bdays.head(5)"
   ]
  },
  {
   "cell_type": "code",
   "execution_count": null,
   "metadata": {
    "colab": {
     "base_uri": "https://localhost:8080/"
    },
    "id": "ocEvNNjQlhiM",
    "outputId": "1839fa9c-cf15-4716-e5a5-6b9f2c12543f"
   },
   "outputs": [],
   "source": [
    "#Data preprocessing: Removing unneccessary\n",
    "print(\"Whole dataset:\\n\", bdays.resample('M', on='tpep_pickup_datetime').count()['index'])\n",
    "\n",
    "#extracting 2023\n",
    "bdays = bdays[bdays['tpep_pickup_datetime'].dt.year == 2023]\n",
    "print(\"2023 data only: \",len(bdays), \"instances\")"
   ]
  },
  {
   "cell_type": "markdown",
   "metadata": {
    "id": "998uisTfm2_Q"
   },
   "source": [
    "### Weekday preprocess\n",
    "help in grouping according to weekdays"
   ]
  },
  {
   "cell_type": "code",
   "execution_count": null,
   "metadata": {
    "id": "JbtSUq2vJhyL"
   },
   "outputs": [],
   "source": [
    "#add weekday column\n",
    "bdays['weekday'] = bdays['tpep_pickup_datetime'].apply(func=lambda x: x.isoweekday())"
   ]
  },
  {
   "cell_type": "code",
   "execution_count": null,
   "metadata": {
    "colab": {
     "base_uri": "https://localhost:8080/",
     "height": 269
    },
    "id": "MUd963KMJqiU",
    "outputId": "8f473e70-4ec2-4b71-d80d-b573966d0d9f"
   },
   "outputs": [],
   "source": [
    "#groupby weekday\n",
    "db1 = bdays.groupby(by='weekday').count()['index'].reset_index()\n",
    "db1['weekday'] = db1['weekday'].apply(lambda x: weekd[x])\n",
    "db1.sort_values(by='index', ascending=False)"
   ]
  },
  {
   "cell_type": "code",
   "execution_count": null,
   "metadata": {
    "colab": {
     "base_uri": "https://localhost:8080/",
     "height": 122
    },
    "id": "6WTg8FfxdJiz",
    "outputId": "3818c257-6ba7-4bfe-d3e2-fd8cb97ec824"
   },
   "outputs": [],
   "source": [
    "#choosing a colormap for bar chart illustration\n",
    "colormap = plt.get_cmap('flare')\n",
    "#mapping values to color-range from lighter to darker\n",
    "normalize = plt.Normalize(vmin=db1['index'].min(), vmax=db1['index'].max())\n",
    "colormap"
   ]
  },
  {
   "cell_type": "code",
   "execution_count": null,
   "metadata": {
    "colab": {
     "base_uri": "https://localhost:8080/",
     "height": 564
    },
    "id": "fsaj5cQqUZ69",
    "outputId": "a6ae1404-f0bd-4573-d44a-215eaf638b2a"
   },
   "outputs": [],
   "source": [
    "# visualization\n",
    "fig, ax = plt.subplots(figsize=(8,6))\n",
    "plt.barh(y=db1['weekday'], width=db1['index'],\n",
    "        color= colormap(normalize(db1['index']))\n",
    ")\n",
    "# display colorbar\n",
    "cbar = plt.colorbar(plt.cm.ScalarMappable(cmap=colormap, norm=normalize), ax=ax, orientation='vertical')\n",
    "cbar.set_label('Value')\n",
    "\n",
    "# Set labels and title\n",
    "plt.xlabel('Weekdays')\n",
    "plt.ylabel('No of Trips')\n",
    "plt.title('Most busy Weekdays of 2023')\n",
    "\n",
    "# Show the plot\n",
    "plt.show()"
   ]
  },
  {
   "cell_type": "markdown",
   "metadata": {
    "id": "6E8nS9qhoMzQ"
   },
   "source": [
    "# Most popular pickup and dropoff location?"
   ]
  },
  {
   "cell_type": "code",
   "execution_count": null,
   "metadata": {
    "colab": {
     "base_uri": "https://localhost:8080/"
    },
    "id": "rhXCGc7MYLfr",
    "outputId": "64fcf091-ca6b-40ed-c2c5-774688ea04b1"
   },
   "outputs": [],
   "source": [
    "# extracting neccessary data\n",
    "plocs = trips[trips['tpep_pickup_datetime'].dt.year == 2023]\n",
    "plocs = plocs[['index','PULocationID','DOLocationID','tpep_pickup_datetime']].copy()\n",
    "plocs.shape"
   ]
  },
  {
   "cell_type": "code",
   "execution_count": null,
   "metadata": {
    "colab": {
     "base_uri": "https://localhost:8080/"
    },
    "id": "ty7NT6vP8_xQ",
    "outputId": "8e7019b7-5354-4ff3-e020-3eaaf0b7b136"
   },
   "outputs": [],
   "source": [
    "# unique locations\n",
    "print(f\"UNIQUE Locations:\\n pickup:{plocs.PULocationID.unique().size}\\n dropoff:{plocs.DOLocationID.unique().size}\")"
   ]
  },
  {
   "cell_type": "code",
   "execution_count": null,
   "metadata": {
    "colab": {
     "base_uri": "https://localhost:8080/"
    },
    "id": "OuZvjNZaDojh",
    "outputId": "4a6bdca7-5845-4bbc-caaa-d268c0db9cf0"
   },
   "outputs": [],
   "source": [
    "#Most popular pickup\n",
    "plocs.PULocationID.value_counts()"
   ]
  },
  {
   "cell_type": "code",
   "execution_count": null,
   "metadata": {
    "colab": {
     "base_uri": "https://localhost:8080/"
    },
    "id": "sVm_BHqdECcr",
    "outputId": "2527fbf3-43cc-410f-c4a3-28511c1807eb"
   },
   "outputs": [],
   "source": [
    "#Most popular dropoff\n",
    "plocs.DOLocationID.value_counts()"
   ]
  },
  {
   "cell_type": "code",
   "execution_count": null,
   "metadata": {
    "colab": {
     "base_uri": "https://localhost:8080/"
    },
    "id": "R9kn4HatZ1tA",
    "outputId": "fc9ff451-fcca-45fd-c659-420cde18db77"
   },
   "outputs": [],
   "source": [
    "#adding weekday attribute\n",
    "plocs['weekdy'] = plocs['tpep_pickup_datetime'].apply(lambda x : x.isoweekday())\n",
    "plocs.info()"
   ]
  },
  {
   "cell_type": "code",
   "execution_count": null,
   "metadata": {
    "colab": {
     "base_uri": "https://localhost:8080/"
    },
    "id": "U7HE2TU_b338",
    "outputId": "dba39dd8-5daf-4384-f44b-9b33d76f4a3b"
   },
   "outputs": [],
   "source": [
    "# groupby on weekday > PickUP LocationID > DropOff location ID\n",
    "# getting weekly \n",
    "db3 = pd.pivot_table(data=plocs, index=['weekdy','PULocationID','DOLocationID'],\n",
    "               values=['index'], aggfunc=['count'])\n",
    "\n",
    "#weekly most popular trips\n",
    "max_counts = db3['count']['index'].groupby(['weekdy']).idxmax()\n",
    "db3 = db3.loc[max_counts]\n",
    "print(db3)"
   ]
  },
  {
   "cell_type": "code",
   "execution_count": null,
   "metadata": {
    "colab": {
     "base_uri": "https://localhost:8080/"
    },
    "id": "cI-Ftak6CLBt",
    "outputId": "965fe311-7680-4da3-a3ea-037ee82727fe"
   },
   "outputs": [],
   "source": [
    "#Most popular trips in whole month\n",
    "db2 = plocs.iloc[:,1:3].value_counts()\n",
    "db2.head()"
   ]
  },
  {
   "cell_type": "code",
   "execution_count": null,
   "metadata": {
    "colab": {
     "base_uri": "https://localhost:8080/",
     "height": 618
    },
    "id": "46ekOvQ3ZfDM",
    "outputId": "43e8edf2-756e-4cb2-9c0d-18cfa5b3134a"
   },
   "outputs": [],
   "source": [
    "#Joining DataTables\n",
    "db3 = db3.loc[max_counts]\n",
    "db3 = db3['count']['index'].reset_index(name='Trips').join(zonedb, on='PULocationID', how='inner', lsuffix=\" pickup\").join(zonedb, on='DOLocationID', how='inner', lsuffix=\" dropoff\")\n",
    "db3['weekdy'] = list(map(lambda x: weekd[x], db3['weekdy']))"
   ]
  },
  {
   "cell_type": "code",
   "execution_count": null,
   "metadata": {
    "id": "3B6NHu_AQdbb"
   },
   "outputs": [],
   "source": [
    "db3.sort_values(by='Trips', ascending = False)"
   ]
  },
  {
   "cell_type": "markdown",
   "metadata": {},
   "source": [
    "# Revenue by Ratecodes"
   ]
  },
  {
   "cell_type": "code",
   "execution_count": null,
   "metadata": {},
   "outputs": [],
   "source": [
    "trips.head()"
   ]
  },
  {
   "cell_type": "code",
   "execution_count": null,
   "metadata": {},
   "outputs": [],
   "source": [
    "# unique ratecodes\n",
    "trips['RatecodeID'].unique()"
   ]
  },
  {
   "cell_type": "code",
   "execution_count": null,
   "metadata": {},
   "outputs": [],
   "source": [
    "# Groupby RatecodeID on amount attribute\n",
    "db5 = trips.pivot_table(values='total_amount', index='RatecodeID', aggfunc='sum', dropna=False).sort_values(by='total_amount', ascending=False)\n",
    "db5"
   ]
  },
  {
   "cell_type": "code",
   "execution_count": null,
   "metadata": {},
   "outputs": [],
   "source": [
    "#choosing a colormap for bar chart illustration\n",
    "colormap2 = plt.get_cmap('flare')\n",
    "#mapping values to color-range from lighter to darker\n",
    "normalize2 = plt.Normalize(vmin=db5['total_amount'].min(), vmax=db5['total_amount'].max())\n",
    "\n",
    "fig, ax = plt.subplots(figsize=(8,6))\n",
    "bars = plt.bar(x=db5.index.astype('str'), height=db5['total_amount'],\n",
    "              color = colormap(normalize2(db5['total_amount'])))\n",
    "\n",
    "\n",
    "# Add values on top of bars\n",
    "values = db5['total_amount']/10000\n",
    "for bar, value in zip(bars, values):\n",
    "    if value >= 30000000:  # Display the value inside the bar if it's greater than or equal to 5\n",
    "        plt.text(bar.get_x() + bar.get_width() / 2, bar.get_height(), f\"$ {value:.2f} K\",\n",
    "                 ha='center', va='bottom', rotation='vertical')\n",
    "    else:  # Display the value above the bar if it's less than 5\n",
    "        plt.text(bar.get_x() + bar.get_width() / 2, bar.get_height(), f\"$ {value:.2f} K\",\n",
    "                 ha='center', va='bottom', fontsize=8)\n",
    "\n",
    "# display colorbar\n",
    "cbar = plt.colorbar(plt.cm.ScalarMappable(cmap=colormap2, norm=normalize2), ax=ax, orientation='vertical')\n",
    "cbar.set_label('Revenue')\n",
    "\n",
    "plt.xlabel('Ratecodes')\n",
    "plt.ylabel('revenue')\n",
    "plt.show()"
   ]
  },
  {
   "cell_type": "code",
   "execution_count": null,
   "metadata": {},
   "outputs": [],
   "source": []
  }
 ],
 "metadata": {
  "colab": {
   "collapsed_sections": [
    "-6tlOBgL7Sy_",
    "VI7YaPLfIWtt"
   ],
   "provenance": []
  },
  "kernelspec": {
   "display_name": "Python 3 (ipykernel)",
   "language": "python",
   "name": "python3"
  },
  "language_info": {
   "codemirror_mode": {
    "name": "ipython",
    "version": 3
   },
   "file_extension": ".py",
   "mimetype": "text/x-python",
   "name": "python",
   "nbconvert_exporter": "python",
   "pygments_lexer": "ipython3",
   "version": "3.10.2"
  }
 },
 "nbformat": 4,
 "nbformat_minor": 1
}
