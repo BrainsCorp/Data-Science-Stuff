{
  "nbformat": 4,
  "nbformat_minor": 0,
  "metadata": {
    "colab": {
      "provenance": [],
      "authorship_tag": "ABX9TyM3UFyPbwn08etE/YSxNID+",
      "include_colab_link": true
    },
    "kernelspec": {
      "name": "python3",
      "display_name": "Python 3"
    },
    "language_info": {
      "name": "python"
    }
  },
  "cells": [
    {
      "cell_type": "markdown",
      "metadata": {
        "id": "view-in-github",
        "colab_type": "text"
      },
      "source": [
        "<a href=\"https://colab.research.google.com/github/BrainsCorp/Data-Science-Stuff/blob/master/twitter_sentimental_analysis.ipynb\" target=\"_parent\"><img src=\"https://colab.research.google.com/assets/colab-badge.svg\" alt=\"Open In Colab\"/></a>"
      ]
    },
    {
      "cell_type": "markdown",
      "source": [
        "#Twitter Sentimental Analysis"
      ],
      "metadata": {
        "id": "QeqbZvNZDnL-"
      }
    },
    {
      "cell_type": "markdown",
      "source": [
        "#Setting Tools\n",
        "###Setting up the environment is the first step.\n",
        "These are the Libraries to be installed before proceeding any further.\n",
        "Twitter API is accessed in Python using the library called “Tweepy”\n"
      ],
      "metadata": {
        "id": "UHHmOVd-3bK-"
      }
    },
    {
      "cell_type": "code",
      "source": [
        "!pip install advertools\n",
        "!pip install emoji"
      ],
      "metadata": {
        "id": "4WW97UtbwifU"
      },
      "execution_count": null,
      "outputs": []
    },
    {
      "cell_type": "code",
      "source": [
        "import tweepy                         #Our Tool for Accessing Twitter API\n",
        "from textblob import TextBlob         #For Text Polarity and Subjectivity\n",
        "import pandas as pd\n",
        "import re                             #regex String extraction\n",
        "\n",
        "from wordcloud import WordCloud       #Generating WordCloud\n",
        "import matplotlib.pyplot as plt       #For Graphs\n",
        "\n",
        "import seaborn as sns                 #For Graphs\n",
        "from google.colab import files\n",
        "import io\n",
        "\n",
        "from sklearn.preprocessing import OrdinalEncoder\n",
        "import advertools as adv\n",
        "import emoji\n",
        "from IPython.display import set_matplotlib_formats\n",
        "set_matplotlib_formats('pdf', 'svg')"
      ],
      "metadata": {
        "id": "NsXBbSZ_sY7t"
      },
      "execution_count": null,
      "outputs": []
    },
    {
      "cell_type": "markdown",
      "source": [
        "###Authentication\n",
        "<ol>\n",
        "<li>For Getting access to the twitter data, we need to first form a twitter developer account on this <b><a href = \"https://www.developer.twitter.com/\"> developer.twitter.com </a></b></li>\n",
        "\n",
        "<li><b>After Sign In/ Sign Up,</b><br>Create a Twitter App/ Project where you will be asked for some general information about you and your project.\n",
        "After, Click on Generate Tokens and Keys, this is want we get</li>\n",
        "\n",
        "<li>\n",
        "<ol>\n",
        "<li>API Key: XXXXXXXX.. (<i> A key to representing your username/ Consumer Key </i>)</li>\n",
        "<li>API Secret: XXXXXX.. (<i> representing your password/ Consumer Secret</i> )</li>\n",
        "<li>Bearer Key: XXXXX... (<i> Pass through Site Access/ Ticket</i> )</li>\n",
        "</ol>\n",
        "</li>\n",
        "\n",
        "After that Generate authenticate (<i>authorization keys and Token</i>)\n",
        "\n",
        "<li>\n",
        "<ol>\n",
        "<li>Access Token: XXXXXX.. (<i> Access to Site Data <i>)</li>\n",
        "<li>Access Secret: XXXXXX.. (<i> it’s Password Key<i> )</li>\n",
        "</ol>\n",
        "\n",
        "</ol>\n"
      ],
      "metadata": {
        "id": "0p9TUmp_3kvZ"
      }
    },
    {
      "cell_type": "code",
      "source": [
        "#Uploading Files of Keys\n",
        "abc = files.upload()\n",
        "Key_file = pd.read_csv(io.BytesIO(abc['Keys.csv']), delimiter=\",\", names=['Key_Tokens'])\n",
        "#in sequence: accessToken, accessSecret, consumerKey, consumerSecret, bearerToken"
      ],
      "metadata": {
        "colab": {
          "base_uri": "https://localhost:8080/",
          "height": 73
        },
        "id": "384vQQRQcCPl",
        "outputId": "616bdbe3-ea7a-4557-ddaf-80a217c8bcff"
      },
      "execution_count": null,
      "outputs": [
        {
          "output_type": "display_data",
          "data": {
            "text/plain": [
              "<IPython.core.display.HTML object>"
            ],
            "text/html": [
              "\n",
              "     <input type=\"file\" id=\"files-c8a615ca-260e-435b-8387-bf573dffef8a\" name=\"files[]\" multiple disabled\n",
              "        style=\"border:none\" />\n",
              "     <output id=\"result-c8a615ca-260e-435b-8387-bf573dffef8a\">\n",
              "      Upload widget is only available when the cell has been executed in the\n",
              "      current browser session. Please rerun this cell to enable.\n",
              "      </output>\n",
              "      <script>// Copyright 2017 Google LLC\n",
              "//\n",
              "// Licensed under the Apache License, Version 2.0 (the \"License\");\n",
              "// you may not use this file except in compliance with the License.\n",
              "// You may obtain a copy of the License at\n",
              "//\n",
              "//      http://www.apache.org/licenses/LICENSE-2.0\n",
              "//\n",
              "// Unless required by applicable law or agreed to in writing, software\n",
              "// distributed under the License is distributed on an \"AS IS\" BASIS,\n",
              "// WITHOUT WARRANTIES OR CONDITIONS OF ANY KIND, either express or implied.\n",
              "// See the License for the specific language governing permissions and\n",
              "// limitations under the License.\n",
              "\n",
              "/**\n",
              " * @fileoverview Helpers for google.colab Python module.\n",
              " */\n",
              "(function(scope) {\n",
              "function span(text, styleAttributes = {}) {\n",
              "  const element = document.createElement('span');\n",
              "  element.textContent = text;\n",
              "  for (const key of Object.keys(styleAttributes)) {\n",
              "    element.style[key] = styleAttributes[key];\n",
              "  }\n",
              "  return element;\n",
              "}\n",
              "\n",
              "// Max number of bytes which will be uploaded at a time.\n",
              "const MAX_PAYLOAD_SIZE = 100 * 1024;\n",
              "\n",
              "function _uploadFiles(inputId, outputId) {\n",
              "  const steps = uploadFilesStep(inputId, outputId);\n",
              "  const outputElement = document.getElementById(outputId);\n",
              "  // Cache steps on the outputElement to make it available for the next call\n",
              "  // to uploadFilesContinue from Python.\n",
              "  outputElement.steps = steps;\n",
              "\n",
              "  return _uploadFilesContinue(outputId);\n",
              "}\n",
              "\n",
              "// This is roughly an async generator (not supported in the browser yet),\n",
              "// where there are multiple asynchronous steps and the Python side is going\n",
              "// to poll for completion of each step.\n",
              "// This uses a Promise to block the python side on completion of each step,\n",
              "// then passes the result of the previous step as the input to the next step.\n",
              "function _uploadFilesContinue(outputId) {\n",
              "  const outputElement = document.getElementById(outputId);\n",
              "  const steps = outputElement.steps;\n",
              "\n",
              "  const next = steps.next(outputElement.lastPromiseValue);\n",
              "  return Promise.resolve(next.value.promise).then((value) => {\n",
              "    // Cache the last promise value to make it available to the next\n",
              "    // step of the generator.\n",
              "    outputElement.lastPromiseValue = value;\n",
              "    return next.value.response;\n",
              "  });\n",
              "}\n",
              "\n",
              "/**\n",
              " * Generator function which is called between each async step of the upload\n",
              " * process.\n",
              " * @param {string} inputId Element ID of the input file picker element.\n",
              " * @param {string} outputId Element ID of the output display.\n",
              " * @return {!Iterable<!Object>} Iterable of next steps.\n",
              " */\n",
              "function* uploadFilesStep(inputId, outputId) {\n",
              "  const inputElement = document.getElementById(inputId);\n",
              "  inputElement.disabled = false;\n",
              "\n",
              "  const outputElement = document.getElementById(outputId);\n",
              "  outputElement.innerHTML = '';\n",
              "\n",
              "  const pickedPromise = new Promise((resolve) => {\n",
              "    inputElement.addEventListener('change', (e) => {\n",
              "      resolve(e.target.files);\n",
              "    });\n",
              "  });\n",
              "\n",
              "  const cancel = document.createElement('button');\n",
              "  inputElement.parentElement.appendChild(cancel);\n",
              "  cancel.textContent = 'Cancel upload';\n",
              "  const cancelPromise = new Promise((resolve) => {\n",
              "    cancel.onclick = () => {\n",
              "      resolve(null);\n",
              "    };\n",
              "  });\n",
              "\n",
              "  // Wait for the user to pick the files.\n",
              "  const files = yield {\n",
              "    promise: Promise.race([pickedPromise, cancelPromise]),\n",
              "    response: {\n",
              "      action: 'starting',\n",
              "    }\n",
              "  };\n",
              "\n",
              "  cancel.remove();\n",
              "\n",
              "  // Disable the input element since further picks are not allowed.\n",
              "  inputElement.disabled = true;\n",
              "\n",
              "  if (!files) {\n",
              "    return {\n",
              "      response: {\n",
              "        action: 'complete',\n",
              "      }\n",
              "    };\n",
              "  }\n",
              "\n",
              "  for (const file of files) {\n",
              "    const li = document.createElement('li');\n",
              "    li.append(span(file.name, {fontWeight: 'bold'}));\n",
              "    li.append(span(\n",
              "        `(${file.type || 'n/a'}) - ${file.size} bytes, ` +\n",
              "        `last modified: ${\n",
              "            file.lastModifiedDate ? file.lastModifiedDate.toLocaleDateString() :\n",
              "                                    'n/a'} - `));\n",
              "    const percent = span('0% done');\n",
              "    li.appendChild(percent);\n",
              "\n",
              "    outputElement.appendChild(li);\n",
              "\n",
              "    const fileDataPromise = new Promise((resolve) => {\n",
              "      const reader = new FileReader();\n",
              "      reader.onload = (e) => {\n",
              "        resolve(e.target.result);\n",
              "      };\n",
              "      reader.readAsArrayBuffer(file);\n",
              "    });\n",
              "    // Wait for the data to be ready.\n",
              "    let fileData = yield {\n",
              "      promise: fileDataPromise,\n",
              "      response: {\n",
              "        action: 'continue',\n",
              "      }\n",
              "    };\n",
              "\n",
              "    // Use a chunked sending to avoid message size limits. See b/62115660.\n",
              "    let position = 0;\n",
              "    do {\n",
              "      const length = Math.min(fileData.byteLength - position, MAX_PAYLOAD_SIZE);\n",
              "      const chunk = new Uint8Array(fileData, position, length);\n",
              "      position += length;\n",
              "\n",
              "      const base64 = btoa(String.fromCharCode.apply(null, chunk));\n",
              "      yield {\n",
              "        response: {\n",
              "          action: 'append',\n",
              "          file: file.name,\n",
              "          data: base64,\n",
              "        },\n",
              "      };\n",
              "\n",
              "      let percentDone = fileData.byteLength === 0 ?\n",
              "          100 :\n",
              "          Math.round((position / fileData.byteLength) * 100);\n",
              "      percent.textContent = `${percentDone}% done`;\n",
              "\n",
              "    } while (position < fileData.byteLength);\n",
              "  }\n",
              "\n",
              "  // All done.\n",
              "  yield {\n",
              "    response: {\n",
              "      action: 'complete',\n",
              "    }\n",
              "  };\n",
              "}\n",
              "\n",
              "scope.google = scope.google || {};\n",
              "scope.google.colab = scope.google.colab || {};\n",
              "scope.google.colab._files = {\n",
              "  _uploadFiles,\n",
              "  _uploadFilesContinue,\n",
              "};\n",
              "})(self);\n",
              "</script> "
            ]
          },
          "metadata": {}
        },
        {
          "output_type": "stream",
          "name": "stdout",
          "text": [
            "Saving Keys.csv to Keys.csv\n"
          ]
        }
      ]
    },
    {
      "cell_type": "code",
      "source": [
        "class TwitterClient(object):\n",
        "  def __init__(self):\n",
        "    '''file = input(\"enter the file name containing keys and tokens of twitter dev. acc. with extension(.csv): \")\n",
        "    upload = pd.read_csv(file)'''\n",
        "\n",
        "    #initializing Keys and Tokens Got from Twitter Developer Account\n",
        "    accessToken = Key_file['Key_Tokens'][1]\n",
        "    accessSecret =  Key_file['Key_Tokens'][2]\n",
        "    consumerKey = Key_file['Key_Tokens'][3]\n",
        "    consumerSecret = Key_file['Key_Tokens'][4]\n",
        "    bearerToken = Key_file['Key_Tokens'][5]\n",
        "    #Authorizing Tweepy with Keys\n",
        "    try:\n",
        "      self.auth = tweepy.OAuthHandler(consumerKey, consumerSecret)  #API key and API Token to authenicate user\n",
        "                                                                    #on whose behalf data will access.\n",
        "      self.auth.set_access_token(accessToken, accessSecret)         #Setting Access to Site\n",
        "      self.apis = tweepy.API(self.auth, wait_on_rate_limit=True)    #Generating Pathway for Getting Data\n",
        "    except:\n",
        "      print(\"Authentication Error\")\n",
        "\n",
        "\n",
        "  #Cleaning Text: removing \"#, @, !, ... special chars\"\n",
        "  #Using regular expression match finder\n",
        "  #re.sub -> removes that combination of matching substring from original text\n",
        "\n",
        "  def cleanText(self, text):\n",
        "    text = self.emojiText(text)\n",
        "    #For Text Handling\n",
        "    text = re.sub(r'@[A-Za-z0-9]+', '', text)\n",
        "    text = re.sub(r'#', '', text)\n",
        "    text = re.sub(r'RT[\\s]+', '', text)\n",
        "    text = re.sub(r'https://[A-Za-z0-9!-?]+', '', text)\n",
        "    return text\n",
        "\n",
        "  def emojiText(self, text):\n",
        "    #For Emoji Handling\n",
        "    text = emoji.demojize(text)\n",
        "    text = text.replace(\":\",\"\")\n",
        "    return text\n",
        "\n",
        "  def extractEmojis(self, text):\n",
        "    return adv.extract_emoji(text)['emoji_flat']\n",
        "\n",
        "  def extractHashtags(self, text):\n",
        "    return adv.extract_hashtags(text)['hashtags']\n",
        "\n",
        "  def extractMentions(self, text):\n",
        "    return adv.extract_mentions(text)['mentions']\n",
        "\n",
        "  #Text Subjectiviy Check\n",
        "  def getSubjetivity(self, text):\n",
        "    return TextBlob(text).sentiment.subjectivity #Range 0 to 1\n",
        "\n",
        "  #Text Polarity Check\n",
        "  def getPolarity(self, text):\n",
        "    return TextBlob(text).sentiment.polarity #Range -1 to 1\n",
        "\n",
        "  #Getting Analysis\n",
        "  def getAnalysis(self, score):\n",
        "    if score < -0.5:\n",
        "        return \"Strong Negative\"\n",
        "    elif score < 0:\n",
        "        return \"Weak Negative\"\n",
        "    elif score == 0:\n",
        "        return \"Neutral\"\n",
        "    elif score < 0.5:\n",
        "        return \"Weak Positive\"\n",
        "    else:\n",
        "        return \"Strong Positive\"\n",
        "\n",
        "  def getTweets(self, topic, amount):\n",
        "    #screen_name: attribute searches for specified name\n",
        "    #q = Query to search in tweets\n",
        "    #tweet_mode = 'extended' specifies the full tweet\n",
        "    #lang = specifies language\n",
        "\n",
        "    posts = self.apis.search(q=topic, screen_name=topic, lang=\"en\", count=amount, tweet_mode=\"extended\")\n",
        "    return posts\n"
      ],
      "metadata": {
        "id": "Jt70vQars0DH"
      },
      "execution_count": null,
      "outputs": []
    },
    {
      "cell_type": "markdown",
      "source": [
        "##Data Generation"
      ],
      "metadata": {
        "id": "ya85FrUb6-VT"
      }
    },
    {
      "cell_type": "markdown",
      "source": [
        "\n",
        "<ol><label><h3>Calling Twitter API.</h3></label>\n",
        "<li>Entering Topic and Number of Tweets (n)</li>\n",
        "<li>Creating Our TwitterClient() object<br>Calling getTweets fnc</li>\n",
        "<li>The API fetching results from site using authenticated keys and tokens</li>\n",
        "</ol>"
      ],
      "metadata": {
        "id": "qa8jtfU27J1J"
      }
    },
    {
      "cell_type": "code",
      "source": [
        "# Calling TwitterClient\n",
        "api = TwitterClient()\n",
        "topic = input(\"enter the topic: \")\n",
        "posts = api.getTweets(topic, 200)"
      ],
      "metadata": {
        "id": "qEaX_Bxr0GVA"
      },
      "execution_count": null,
      "outputs": []
    },
    {
      "cell_type": "code",
      "source": [
        "\n",
        "# Creating DataFrame\n",
        "df = pd.DataFrame({\"Tweets\":[tweet.full_text for tweet in posts],\n",
        "                   \"PostedOn\":[tweet.created_at for tweet in posts]}, columns=['Tweets','PostedOn'])\n"
      ],
      "metadata": {
        "id": "qpjPkvc99Pq1"
      },
      "execution_count": null,
      "outputs": []
    },
    {
      "cell_type": "code",
      "source": [
        "df.head()"
      ],
      "metadata": {
        "colab": {
          "base_uri": "https://localhost:8080/",
          "height": 206
        },
        "id": "C0sd_kYimWlH",
        "outputId": "c54bef4f-d9e7-4c95-8a4e-d2cd891f7131"
      },
      "execution_count": null,
      "outputs": [
        {
          "output_type": "execute_result",
          "data": {
            "text/plain": [
              "                                              Tweets            PostedOn\n",
              "0  RT @FT: Donald Trump expected to announce Whit... 2022-11-04 16:46:02\n",
              "1  RT @RedWingGrips: Hillary Clinton rigged the e... 2022-11-04 16:46:02\n",
              "2  @m_clarkson78 @mmpadellan Sometimes I think it... 2022-11-04 16:46:01\n",
              "3  RT @OccupyDemocrats: Prevention is key. https:... 2022-11-04 16:46:01\n",
              "4  RT @lavern_spicer: Word on the street is that ... 2022-11-04 16:46:00"
            ],
            "text/html": [
              "\n",
              "  <div id=\"df-0b613b99-c84c-456e-a8db-c84beb3b2985\">\n",
              "    <div class=\"colab-df-container\">\n",
              "      <div>\n",
              "<style scoped>\n",
              "    .dataframe tbody tr th:only-of-type {\n",
              "        vertical-align: middle;\n",
              "    }\n",
              "\n",
              "    .dataframe tbody tr th {\n",
              "        vertical-align: top;\n",
              "    }\n",
              "\n",
              "    .dataframe thead th {\n",
              "        text-align: right;\n",
              "    }\n",
              "</style>\n",
              "<table border=\"1\" class=\"dataframe\">\n",
              "  <thead>\n",
              "    <tr style=\"text-align: right;\">\n",
              "      <th></th>\n",
              "      <th>Tweets</th>\n",
              "      <th>PostedOn</th>\n",
              "    </tr>\n",
              "  </thead>\n",
              "  <tbody>\n",
              "    <tr>\n",
              "      <th>0</th>\n",
              "      <td>RT @FT: Donald Trump expected to announce Whit...</td>\n",
              "      <td>2022-11-04 16:46:02</td>\n",
              "    </tr>\n",
              "    <tr>\n",
              "      <th>1</th>\n",
              "      <td>RT @RedWingGrips: Hillary Clinton rigged the e...</td>\n",
              "      <td>2022-11-04 16:46:02</td>\n",
              "    </tr>\n",
              "    <tr>\n",
              "      <th>2</th>\n",
              "      <td>@m_clarkson78 @mmpadellan Sometimes I think it...</td>\n",
              "      <td>2022-11-04 16:46:01</td>\n",
              "    </tr>\n",
              "    <tr>\n",
              "      <th>3</th>\n",
              "      <td>RT @OccupyDemocrats: Prevention is key. https:...</td>\n",
              "      <td>2022-11-04 16:46:01</td>\n",
              "    </tr>\n",
              "    <tr>\n",
              "      <th>4</th>\n",
              "      <td>RT @lavern_spicer: Word on the street is that ...</td>\n",
              "      <td>2022-11-04 16:46:00</td>\n",
              "    </tr>\n",
              "  </tbody>\n",
              "</table>\n",
              "</div>\n",
              "      <button class=\"colab-df-convert\" onclick=\"convertToInteractive('df-0b613b99-c84c-456e-a8db-c84beb3b2985')\"\n",
              "              title=\"Convert this dataframe to an interactive table.\"\n",
              "              style=\"display:none;\">\n",
              "        \n",
              "  <svg xmlns=\"http://www.w3.org/2000/svg\" height=\"24px\"viewBox=\"0 0 24 24\"\n",
              "       width=\"24px\">\n",
              "    <path d=\"M0 0h24v24H0V0z\" fill=\"none\"/>\n",
              "    <path d=\"M18.56 5.44l.94 2.06.94-2.06 2.06-.94-2.06-.94-.94-2.06-.94 2.06-2.06.94zm-11 1L8.5 8.5l.94-2.06 2.06-.94-2.06-.94L8.5 2.5l-.94 2.06-2.06.94zm10 10l.94 2.06.94-2.06 2.06-.94-2.06-.94-.94-2.06-.94 2.06-2.06.94z\"/><path d=\"M17.41 7.96l-1.37-1.37c-.4-.4-.92-.59-1.43-.59-.52 0-1.04.2-1.43.59L10.3 9.45l-7.72 7.72c-.78.78-.78 2.05 0 2.83L4 21.41c.39.39.9.59 1.41.59.51 0 1.02-.2 1.41-.59l7.78-7.78 2.81-2.81c.8-.78.8-2.07 0-2.86zM5.41 20L4 18.59l7.72-7.72 1.47 1.35L5.41 20z\"/>\n",
              "  </svg>\n",
              "      </button>\n",
              "      \n",
              "  <style>\n",
              "    .colab-df-container {\n",
              "      display:flex;\n",
              "      flex-wrap:wrap;\n",
              "      gap: 12px;\n",
              "    }\n",
              "\n",
              "    .colab-df-convert {\n",
              "      background-color: #E8F0FE;\n",
              "      border: none;\n",
              "      border-radius: 50%;\n",
              "      cursor: pointer;\n",
              "      display: none;\n",
              "      fill: #1967D2;\n",
              "      height: 32px;\n",
              "      padding: 0 0 0 0;\n",
              "      width: 32px;\n",
              "    }\n",
              "\n",
              "    .colab-df-convert:hover {\n",
              "      background-color: #E2EBFA;\n",
              "      box-shadow: 0px 1px 2px rgba(60, 64, 67, 0.3), 0px 1px 3px 1px rgba(60, 64, 67, 0.15);\n",
              "      fill: #174EA6;\n",
              "    }\n",
              "\n",
              "    [theme=dark] .colab-df-convert {\n",
              "      background-color: #3B4455;\n",
              "      fill: #D2E3FC;\n",
              "    }\n",
              "\n",
              "    [theme=dark] .colab-df-convert:hover {\n",
              "      background-color: #434B5C;\n",
              "      box-shadow: 0px 1px 3px 1px rgba(0, 0, 0, 0.15);\n",
              "      filter: drop-shadow(0px 1px 2px rgba(0, 0, 0, 0.3));\n",
              "      fill: #FFFFFF;\n",
              "    }\n",
              "  </style>\n",
              "\n",
              "      <script>\n",
              "        const buttonEl =\n",
              "          document.querySelector('#df-0b613b99-c84c-456e-a8db-c84beb3b2985 button.colab-df-convert');\n",
              "        buttonEl.style.display =\n",
              "          google.colab.kernel.accessAllowed ? 'block' : 'none';\n",
              "\n",
              "        async function convertToInteractive(key) {\n",
              "          const element = document.querySelector('#df-0b613b99-c84c-456e-a8db-c84beb3b2985');\n",
              "          const dataTable =\n",
              "            await google.colab.kernel.invokeFunction('convertToInteractive',\n",
              "                                                     [key], {});\n",
              "          if (!dataTable) return;\n",
              "\n",
              "          const docLinkHtml = 'Like what you see? Visit the ' +\n",
              "            '<a target=\"_blank\" href=https://colab.research.google.com/notebooks/data_table.ipynb>data table notebook</a>'\n",
              "            + ' to learn more about interactive tables.';\n",
              "          element.innerHTML = '';\n",
              "          dataTable['output_type'] = 'display_data';\n",
              "          await google.colab.output.renderOutput(dataTable, element);\n",
              "          const docLink = document.createElement('div');\n",
              "          docLink.innerHTML = docLinkHtml;\n",
              "          element.appendChild(docLink);\n",
              "        }\n",
              "      </script>\n",
              "    </div>\n",
              "  </div>\n",
              "  "
            ]
          },
          "metadata": {},
          "execution_count": 899
        }
      ]
    },
    {
      "cell_type": "code",
      "source": [
        "df.info()"
      ],
      "metadata": {
        "colab": {
          "base_uri": "https://localhost:8080/"
        },
        "id": "2Tg2JATam1Ra",
        "outputId": "1bb01d69-d952-4e7e-d1e9-529bbfca1e63"
      },
      "execution_count": null,
      "outputs": [
        {
          "output_type": "stream",
          "name": "stdout",
          "text": [
            "<class 'pandas.core.frame.DataFrame'>\n",
            "RangeIndex: 100 entries, 0 to 99\n",
            "Data columns (total 2 columns):\n",
            " #   Column    Non-Null Count  Dtype         \n",
            "---  ------    --------------  -----         \n",
            " 0   Tweets    100 non-null    object        \n",
            " 1   PostedOn  100 non-null    datetime64[ns]\n",
            "dtypes: datetime64[ns](1), object(1)\n",
            "memory usage: 1.7+ KB\n"
          ]
        }
      ]
    },
    {
      "cell_type": "markdown",
      "source": [
        "# Data Manipulation"
      ],
      "metadata": {
        "id": "TKG5rdLf8lfF"
      }
    },
    {
      "cell_type": "markdown",
      "source": [
        "###Text Cleaning\n",
        "Using Regex ( Regular Expression ) for finding all possible combinations from given letters and then removing them if match is found.<br>\n",
        "<b>CleanText( ) #User Generated fnc</b>"
      ],
      "metadata": {
        "id": "oM-lk49e8pIS"
      }
    },
    {
      "cell_type": "code",
      "source": [
        "# Cleaning Tweet Text\n",
        "df['Emojis'] = df['Tweets'].apply(api.extractEmojis)\n",
        "df['Mentions'] = df['Tweets'].apply(api.extractMentions)\n",
        "df['Hastags'] = df['Tweets'].apply(api.extractHashtags)\n",
        "df['Tweets'] = df['Tweets'].apply(api.cleanText)"
      ],
      "metadata": {
        "id": "x5-Z2KTY9a4n"
      },
      "execution_count": null,
      "outputs": []
    },
    {
      "cell_type": "code",
      "source": [
        "df.head()"
      ],
      "metadata": {
        "colab": {
          "base_uri": "https://localhost:8080/",
          "height": 206
        },
        "id": "GKQdNhPnfCZZ",
        "outputId": "e967549f-571b-4f6b-8043-9d2df81cfa42"
      },
      "execution_count": null,
      "outputs": [
        {
          "output_type": "execute_result",
          "data": {
            "text/plain": [
              "                                              Tweets            PostedOn  \\\n",
              "0  Donald Trump expected to announce White House ... 2022-11-04 16:46:02   \n",
              "1  Hillary Clinton rigged the entire 2016 preside... 2022-11-04 16:46:02   \n",
              "2  _clarkson78  Sometimes I think it would cause ... 2022-11-04 16:46:01   \n",
              "3          Prevention is key. https//t.co/AtutxbFoCf 2022-11-04 16:46:01   \n",
              "4  _spicer Word on the street is that Donald Trum... 2022-11-04 16:46:00   \n",
              "\n",
              "  Emojis                        Mentions Hastags  \n",
              "0     []                         [[@ft]]    [[]]  \n",
              "1     []               [[@redwinggrips]]    [[]]  \n",
              "2     []  [[@m_clarkson78, @mmpadellan]]    [[]]  \n",
              "3     []            [[@occupydemocrats]]    [[]]  \n",
              "4     []              [[@lavern_spicer]]    [[]]  "
            ],
            "text/html": [
              "\n",
              "  <div id=\"df-ef2f1e74-856a-44ac-8e7c-ab2cc00594dc\">\n",
              "    <div class=\"colab-df-container\">\n",
              "      <div>\n",
              "<style scoped>\n",
              "    .dataframe tbody tr th:only-of-type {\n",
              "        vertical-align: middle;\n",
              "    }\n",
              "\n",
              "    .dataframe tbody tr th {\n",
              "        vertical-align: top;\n",
              "    }\n",
              "\n",
              "    .dataframe thead th {\n",
              "        text-align: right;\n",
              "    }\n",
              "</style>\n",
              "<table border=\"1\" class=\"dataframe\">\n",
              "  <thead>\n",
              "    <tr style=\"text-align: right;\">\n",
              "      <th></th>\n",
              "      <th>Tweets</th>\n",
              "      <th>PostedOn</th>\n",
              "      <th>Emojis</th>\n",
              "      <th>Mentions</th>\n",
              "      <th>Hastags</th>\n",
              "    </tr>\n",
              "  </thead>\n",
              "  <tbody>\n",
              "    <tr>\n",
              "      <th>0</th>\n",
              "      <td>Donald Trump expected to announce White House ...</td>\n",
              "      <td>2022-11-04 16:46:02</td>\n",
              "      <td>[]</td>\n",
              "      <td>[[@ft]]</td>\n",
              "      <td>[[]]</td>\n",
              "    </tr>\n",
              "    <tr>\n",
              "      <th>1</th>\n",
              "      <td>Hillary Clinton rigged the entire 2016 preside...</td>\n",
              "      <td>2022-11-04 16:46:02</td>\n",
              "      <td>[]</td>\n",
              "      <td>[[@redwinggrips]]</td>\n",
              "      <td>[[]]</td>\n",
              "    </tr>\n",
              "    <tr>\n",
              "      <th>2</th>\n",
              "      <td>_clarkson78  Sometimes I think it would cause ...</td>\n",
              "      <td>2022-11-04 16:46:01</td>\n",
              "      <td>[]</td>\n",
              "      <td>[[@m_clarkson78, @mmpadellan]]</td>\n",
              "      <td>[[]]</td>\n",
              "    </tr>\n",
              "    <tr>\n",
              "      <th>3</th>\n",
              "      <td>Prevention is key. https//t.co/AtutxbFoCf</td>\n",
              "      <td>2022-11-04 16:46:01</td>\n",
              "      <td>[]</td>\n",
              "      <td>[[@occupydemocrats]]</td>\n",
              "      <td>[[]]</td>\n",
              "    </tr>\n",
              "    <tr>\n",
              "      <th>4</th>\n",
              "      <td>_spicer Word on the street is that Donald Trum...</td>\n",
              "      <td>2022-11-04 16:46:00</td>\n",
              "      <td>[]</td>\n",
              "      <td>[[@lavern_spicer]]</td>\n",
              "      <td>[[]]</td>\n",
              "    </tr>\n",
              "  </tbody>\n",
              "</table>\n",
              "</div>\n",
              "      <button class=\"colab-df-convert\" onclick=\"convertToInteractive('df-ef2f1e74-856a-44ac-8e7c-ab2cc00594dc')\"\n",
              "              title=\"Convert this dataframe to an interactive table.\"\n",
              "              style=\"display:none;\">\n",
              "        \n",
              "  <svg xmlns=\"http://www.w3.org/2000/svg\" height=\"24px\"viewBox=\"0 0 24 24\"\n",
              "       width=\"24px\">\n",
              "    <path d=\"M0 0h24v24H0V0z\" fill=\"none\"/>\n",
              "    <path d=\"M18.56 5.44l.94 2.06.94-2.06 2.06-.94-2.06-.94-.94-2.06-.94 2.06-2.06.94zm-11 1L8.5 8.5l.94-2.06 2.06-.94-2.06-.94L8.5 2.5l-.94 2.06-2.06.94zm10 10l.94 2.06.94-2.06 2.06-.94-2.06-.94-.94-2.06-.94 2.06-2.06.94z\"/><path d=\"M17.41 7.96l-1.37-1.37c-.4-.4-.92-.59-1.43-.59-.52 0-1.04.2-1.43.59L10.3 9.45l-7.72 7.72c-.78.78-.78 2.05 0 2.83L4 21.41c.39.39.9.59 1.41.59.51 0 1.02-.2 1.41-.59l7.78-7.78 2.81-2.81c.8-.78.8-2.07 0-2.86zM5.41 20L4 18.59l7.72-7.72 1.47 1.35L5.41 20z\"/>\n",
              "  </svg>\n",
              "      </button>\n",
              "      \n",
              "  <style>\n",
              "    .colab-df-container {\n",
              "      display:flex;\n",
              "      flex-wrap:wrap;\n",
              "      gap: 12px;\n",
              "    }\n",
              "\n",
              "    .colab-df-convert {\n",
              "      background-color: #E8F0FE;\n",
              "      border: none;\n",
              "      border-radius: 50%;\n",
              "      cursor: pointer;\n",
              "      display: none;\n",
              "      fill: #1967D2;\n",
              "      height: 32px;\n",
              "      padding: 0 0 0 0;\n",
              "      width: 32px;\n",
              "    }\n",
              "\n",
              "    .colab-df-convert:hover {\n",
              "      background-color: #E2EBFA;\n",
              "      box-shadow: 0px 1px 2px rgba(60, 64, 67, 0.3), 0px 1px 3px 1px rgba(60, 64, 67, 0.15);\n",
              "      fill: #174EA6;\n",
              "    }\n",
              "\n",
              "    [theme=dark] .colab-df-convert {\n",
              "      background-color: #3B4455;\n",
              "      fill: #D2E3FC;\n",
              "    }\n",
              "\n",
              "    [theme=dark] .colab-df-convert:hover {\n",
              "      background-color: #434B5C;\n",
              "      box-shadow: 0px 1px 3px 1px rgba(0, 0, 0, 0.15);\n",
              "      filter: drop-shadow(0px 1px 2px rgba(0, 0, 0, 0.3));\n",
              "      fill: #FFFFFF;\n",
              "    }\n",
              "  </style>\n",
              "\n",
              "      <script>\n",
              "        const buttonEl =\n",
              "          document.querySelector('#df-ef2f1e74-856a-44ac-8e7c-ab2cc00594dc button.colab-df-convert');\n",
              "        buttonEl.style.display =\n",
              "          google.colab.kernel.accessAllowed ? 'block' : 'none';\n",
              "\n",
              "        async function convertToInteractive(key) {\n",
              "          const element = document.querySelector('#df-ef2f1e74-856a-44ac-8e7c-ab2cc00594dc');\n",
              "          const dataTable =\n",
              "            await google.colab.kernel.invokeFunction('convertToInteractive',\n",
              "                                                     [key], {});\n",
              "          if (!dataTable) return;\n",
              "\n",
              "          const docLinkHtml = 'Like what you see? Visit the ' +\n",
              "            '<a target=\"_blank\" href=https://colab.research.google.com/notebooks/data_table.ipynb>data table notebook</a>'\n",
              "            + ' to learn more about interactive tables.';\n",
              "          element.innerHTML = '';\n",
              "          dataTable['output_type'] = 'display_data';\n",
              "          await google.colab.output.renderOutput(dataTable, element);\n",
              "          const docLink = document.createElement('div');\n",
              "          docLink.innerHTML = docLinkHtml;\n",
              "          element.appendChild(docLink);\n",
              "        }\n",
              "      </script>\n",
              "    </div>\n",
              "  </div>\n",
              "  "
            ]
          },
          "metadata": {},
          "execution_count": 902
        }
      ]
    },
    {
      "cell_type": "markdown",
      "source": [
        "### Sentiment -> knowing hows one's views/opinion about a topic\n",
        "* <b>Subjectivity:</b> how much ones's statement is based on his/her personal opinions, feelings, emotions rather than Facts (or Objective)\n",
        "* <b>Polarity:</b> Negative or Positive sense of something (in this, it means text )"
      ],
      "metadata": {
        "id": "bt0Z77KohIuP"
      }
    },
    {
      "cell_type": "code",
      "source": [
        "# Applying Polarity Check and Analysis\n",
        "df['Subjectivity'] = df['Tweets'].apply(api.getSubjetivity)\n",
        "df['Polarity'] = df['Tweets'].apply(api.getPolarity)\n",
        "df['Analysis'] = df['Polarity'].apply(api.getAnalysis)\n",
        "df['TweetLen'] = df['Tweets'].apply(lambda x: len(x))\n",
        "print(\"Shape of DataFrame: \",df.shape, end=\"\\n\")\n",
        "print(df.head(), '\\n')"
      ],
      "metadata": {
        "colab": {
          "base_uri": "https://localhost:8080/"
        },
        "id": "ql37gJjhW2Fq",
        "outputId": "df5651c4-76cd-4521-89f7-f55e4b961e42"
      },
      "execution_count": null,
      "outputs": [
        {
          "output_type": "stream",
          "name": "stdout",
          "text": [
            "Shape of DataFrame:  (100, 9)\n",
            "                                              Tweets            PostedOn  \\\n",
            "0  Donald Trump expected to announce White House ... 2022-11-04 16:46:02   \n",
            "1  Hillary Clinton rigged the entire 2016 preside... 2022-11-04 16:46:02   \n",
            "2  _clarkson78  Sometimes I think it would cause ... 2022-11-04 16:46:01   \n",
            "3          Prevention is key. https//t.co/AtutxbFoCf 2022-11-04 16:46:01   \n",
            "4  _spicer Word on the street is that Donald Trum... 2022-11-04 16:46:00   \n",
            "\n",
            "  Emojis                        Mentions Hastags  Subjectivity  Polarity  \\\n",
            "0     []                         [[@ft]]    [[]]      0.200000 -0.050000   \n",
            "1     []               [[@redwinggrips]]    [[]]      0.562500  0.208333   \n",
            "2     []  [[@m_clarkson78, @mmpadellan]]    [[]]      0.571429  0.250000   \n",
            "3     []            [[@occupydemocrats]]    [[]]      1.000000  0.000000   \n",
            "4     []              [[@lavern_spicer]]    [[]]      0.288889 -0.194444   \n",
            "\n",
            "        Analysis  TweetLen  \n",
            "0  Weak Negative        87  \n",
            "1  Weak Positive       118  \n",
            "2  Weak Positive       142  \n",
            "3        Neutral        41  \n",
            "4  Weak Negative       120   \n",
            "\n"
          ]
        }
      ]
    },
    {
      "cell_type": "markdown",
      "source": [
        "###Getting Username of People who reTweets"
      ],
      "metadata": {
        "id": "CaaGIeMXFJkP"
      }
    },
    {
      "cell_type": "code",
      "source": [
        "df.Tweets.apply(lambda x: re.findall(r'@([^\\s@]+)', x))"
      ],
      "metadata": {
        "colab": {
          "base_uri": "https://localhost:8080/"
        },
        "id": "qG4P1LFh9jcl",
        "outputId": "1b33e91e-3f66-4b9c-caa2-66dc7c055ef8"
      },
      "execution_count": null,
      "outputs": [
        {
          "output_type": "execute_result",
          "data": {
            "text/plain": [
              "0     []\n",
              "1     []\n",
              "2     []\n",
              "3     []\n",
              "4     []\n",
              "      ..\n",
              "95    []\n",
              "96    []\n",
              "97    []\n",
              "98    []\n",
              "99    []\n",
              "Name: Tweets, Length: 100, dtype: object"
            ]
          },
          "metadata": {},
          "execution_count": 904
        }
      ]
    },
    {
      "cell_type": "markdown",
      "source": [
        "### Percentage of +ve and -ve Tweets"
      ],
      "metadata": {
        "id": "9EMkzOpdkD7X"
      }
    },
    {
      "cell_type": "code",
      "source": [
        "pTweets = df[df.Analysis == \"Strong Positive\"]\n",
        "#pTweets = pTweets['Tweets']\n",
        "pPercent = round((pTweets.shape[0] / df.shape[0]) * 100, 1)\n",
        "print(\"percentage of positive tweets : \",pPercent, end=\"\\n\")\n",
        "\n",
        "wpTweets = df[df.Analysis == \"Weak Positive\"]\n",
        "#pTweets = pTweets['Tweets']\n",
        "wpPercent = round((wpTweets.shape[0] / df.shape[0]) * 100, 1)\n",
        "print(\"percentage of Weak positive tweets : \",wpPercent, end=\"\\n\")\n",
        "\n",
        "nTweets = df[df.Analysis == \"Strong Negative\"]\n",
        "#nTweets = nTweets['Tweets']\n",
        "nPercent = round((nTweets.shape[0] / df.shape[0]) * 100, 1)\n",
        "print(\"percentage of Strong Negative tweets : \",nPercent, end=\"\\n\")\n",
        "\n",
        "wnTweets = df[df.Analysis == \"Weak Negative\"]\n",
        "#nTweets = nTweets['Tweets']\n",
        "wnPercent = round((wnTweets.shape[0] / df.shape[0]) * 100, 1)\n",
        "print(\"percentage of Weak Negative tweets : \",wnPercent, end=\"\\n\")\n",
        "\n",
        "ntTweets = df[df.Analysis == \"Neutral\"]\n",
        "ntPercent = round((ntTweets.shape[0] / df.shape[0]) * 100, 1)\n",
        "print(\"percentage of Neutral tweets : \",ntPercent, end=\"\\n\")\n",
        "\n",
        "percentages = {\"Strong Positive\":pPercent, \"Weak Positive\":wpPercent,\"Neutral\":ntPercent, \"Weak Negative\":wnPercent, \"Strong Negative\":nPercent}"
      ],
      "metadata": {
        "colab": {
          "base_uri": "https://localhost:8080/"
        },
        "id": "FGFHgMlzDU6z",
        "outputId": "7e41de0c-ab37-460c-fbe5-9e106e3b15b7"
      },
      "execution_count": null,
      "outputs": [
        {
          "output_type": "stream",
          "name": "stdout",
          "text": [
            "percentage of positive tweets :  4.0\n",
            "percentage of Weak positive tweets :  33.0\n",
            "percentage of Strong Negative tweets :  4.0\n",
            "percentage of Weak Negative tweets :  20.0\n",
            "percentage of Neutral tweets :  39.0\n"
          ]
        }
      ]
    },
    {
      "cell_type": "code",
      "source": [
        "' '.join([twts for twts in df['Tweets'][0:10]])"
      ],
      "metadata": {
        "colab": {
          "base_uri": "https://localhost:8080/",
          "height": 145
        },
        "id": "3l4p9m2skTRN",
        "outputId": "dc8840f5-496a-4f96-c940-b1f1480f5d2e"
      },
      "execution_count": null,
      "outputs": [
        {
          "output_type": "execute_result",
          "data": {
            "text/plain": [
              "'Donald Trump expected to announce White House bid after midterms https//t.co/SaeSyzDhEE Hillary Clinton rigged the entire 2016 presidential election against Donald Trump and all she got was a campaign fine. _clarkson78  Sometimes I think it would cause you people physical pain to not bring up Donald Trump when trying to defend your favorite people Prevention is key. https//t.co/AtutxbFoCf _spicer Word on the street is that Donald Trump is announcing his 2024 bid on November 14, 2022!\\n\\nIT’S ABOUT TO GO DOWN! I am outraged at the mere thought of donald trump being able to run for president again &amp; I\\'m not sure my stomach will… Tom Barrack, a longtime ally of former President Donald Trump, has been acquitted of foreign lobbying charges https//t.co/Z4qh… BREAKING Superstar New York AG Letitia James announces a \"major victory\" against Donald Trump as a judge rules in her… BREAKING Sources tell Newsmax that former President Donald Trump is planning to announce a 2024 Presidential bid on November… Donald Trump is\\n\\nA COWARD\\n\\nWEAK\\n\\nPATHETIC\\n\\nDECLARED BANKRUPTCY SIX TIMES\\n\\nLIED OVER 30,000 TIMES DURING HIS PRESIDENCY.\\n\\nA…'"
            ],
            "application/vnd.google.colaboratory.intrinsic+json": {
              "type": "string"
            }
          },
          "metadata": {},
          "execution_count": 906
        }
      ]
    },
    {
      "cell_type": "markdown",
      "source": [
        "# Data Visualization"
      ],
      "metadata": {
        "id": "amL8z0FfxkHB"
      }
    },
    {
      "cell_type": "markdown",
      "source": [
        "### Using Matplotlib.pyplot Library And Seaborn for visualizing data"
      ],
      "metadata": {
        "id": "jWsHtM2S_on_"
      }
    },
    {
      "cell_type": "code",
      "source": [
        "# Graphs and Visuals\n",
        "allWords = ' '.join([twts for twts in df['Tweets']]) #joining all words\n",
        "wordCloud = WordCloud(width=500, height=300, random_state=21, max_font_size=110).generate(allWords)\n",
        "\n",
        "# WordCloud Graph\n",
        "fig, ((ax1, ax2), (ax3, ax4)) = plt.subplots(2,2, figsize = (10,7))\n",
        "ax1.imshow(wordCloud, interpolation=\"bilinear\")\n",
        "ax1.title.set_text('Word Cloud: Most Frequent Occurring')\n",
        "ax1.axis('off')\n",
        "\n",
        "# Sentiment Graph\n",
        "catg_tweets = [pTweets,wpTweets, ntTweets, wnTweets, nTweets]\n",
        "color_scheme = [\"Purple\",\"blue\",\"green\",\"orange\",\"red\"]\n",
        "label = [\"Strong Positive\",\"Weak Positive\",\"Neutral\",\"Weak Negative\",\"Strong Negative\"]\n",
        "\n",
        "for catg, clr, lbl in zip(catg_tweets, color_scheme, label):\n",
        "  if(not(catg.shape[0] == 0)):\n",
        "    ax2.scatter(catg.Polarity, catg.Subjectivity, color=clr, label = lbl)\n",
        "\n",
        "ax2.title.set_text('sentiment analysis')\n",
        "ax2.legend(loc='best')\n",
        "ax2.grid()\n",
        "\n",
        "sns.histplot(data=df.TweetLen, bins = 5, ax=ax3)\n",
        "ax3.title.set_text('tweets length')\n",
        "\n",
        "ax4.pie(x=list(percentages.values()), labels=percentages.keys(), colors=color_scheme, autopct='%.0f%%', explode=[0, 0, 0, 0, 0.5])\n",
        "plt.savefig(\"{}.png\".format(topic))\n",
        "files.download(\"{}.png\".format(topic))\n",
        "plt.show()"
      ],
      "metadata": {
        "colab": {
          "base_uri": "https://localhost:8080/",
          "height": 458
        },
        "id": "AMOvNyRe0Txv",
        "outputId": "6d8c179d-a818-44e1-db2d-b5107dc2a239"
      },
      "execution_count": null,
      "outputs": [
        {
          "output_type": "display_data",
          "data": {
            "text/plain": [
              "<IPython.core.display.Javascript object>"
            ],
            "application/javascript": [
              "\n",
              "    async function download(id, filename, size) {\n",
              "      if (!google.colab.kernel.accessAllowed) {\n",
              "        return;\n",
              "      }\n",
              "      const div = document.createElement('div');\n",
              "      const label = document.createElement('label');\n",
              "      label.textContent = `Downloading \"${filename}\": `;\n",
              "      div.appendChild(label);\n",
              "      const progress = document.createElement('progress');\n",
              "      progress.max = size;\n",
              "      div.appendChild(progress);\n",
              "      document.body.appendChild(div);\n",
              "\n",
              "      const buffers = [];\n",
              "      let downloaded = 0;\n",
              "\n",
              "      const channel = await google.colab.kernel.comms.open(id);\n",
              "      // Send a message to notify the kernel that we're ready.\n",
              "      channel.send({})\n",
              "\n",
              "      for await (const message of channel.messages) {\n",
              "        // Send a message to notify the kernel that we're ready.\n",
              "        channel.send({})\n",
              "        if (message.buffers) {\n",
              "          for (const buffer of message.buffers) {\n",
              "            buffers.push(buffer);\n",
              "            downloaded += buffer.byteLength;\n",
              "            progress.value = downloaded;\n",
              "          }\n",
              "        }\n",
              "      }\n",
              "      const blob = new Blob(buffers, {type: 'application/binary'});\n",
              "      const a = document.createElement('a');\n",
              "      a.href = window.URL.createObjectURL(blob);\n",
              "      a.download = filename;\n",
              "      div.appendChild(a);\n",
              "      a.click();\n",
              "      div.remove();\n",
              "    }\n",
              "  "
            ]
          },
          "metadata": {}
        },
        {
          "output_type": "display_data",
          "data": {
            "text/plain": [
              "<IPython.core.display.Javascript object>"
            ],
            "application/javascript": [
              "download(\"download_c8e3455a-797d-49d0-a29b-57fe9a3b81c4\", \"Donald Trump.png\", 108054)"
            ]
          },
          "metadata": {}
        },
        {
          "output_type": "display_data",
          "data": {
            "text/plain": [
              "<Figure size 720x504 with 4 Axes>"
            ],
            "image/png": "[encoded data removed]"
          },
          "metadata": {
            "needs_background": "light"
          }
        }
      ]
    },
    {
      "cell_type": "code",
      "source": [
        "#An Alternate, Simplified through Seaborn Library\n",
        "sns.scatterplot(data=df, x=df.Polarity, y=df.Subjectivity, hue=df.Analysis, palette = 'bright')"
      ],
      "metadata": {
        "colab": {
          "base_uri": "https://localhost:8080/",
          "height": 297
        },
        "id": "QWXmfX3GylmU",
        "outputId": "be91a993-ae2f-43ad-b1bc-41edf915f4c2"
      },
      "execution_count": null,
      "outputs": [
        {
          "output_type": "execute_result",
          "data": {
            "text/plain": [
              "<matplotlib.axes._subplots.AxesSubplot at 0x7f6845ee23d0>"
            ]
          },
          "metadata": {},
          "execution_count": 908
        },
        {
          "output_type": "display_data",
          "data": {
            "text/plain": [
              "<Figure size 432x288 with 1 Axes>"
            ],
            "image/png": "[encoded data removed]"
          },
          "metadata": {
            "needs_background": "light"
          }
        }
      ]
    },
    {
      "cell_type": "markdown",
      "source": [
        "# Analysis"
      ],
      "metadata": {
        "id": "kFDYhZ8CAh6s"
      }
    },
    {
      "cell_type": "markdown",
      "source": [
        "### Key Findings from these Visualizations\n",
        "<ol>\n",
        "<li><h3>Relationship b/w Attributes</h3>Correlation can help in finding some insights, if a relationship exists b/w two or not.</li>\n",
        "<li><h3>Getting Buzz Words</h3>\n",
        "Hot words help in understanding key topic which may be used by advertisers to promote well and effectively</li>\n"
      ],
      "metadata": {
        "id": "DY8F7fMbAleP"
      }
    },
    {
      "cell_type": "markdown",
      "source": [
        "### Mapping Done to Convert Object Values to Numerical Ones\n",
        "df[ 'Analysis' ] : object type <br>\n",
        "so as to find better correlation b/w features"
      ],
      "metadata": {
        "id": "8G_QfdYjy4wB"
      }
    },
    {
      "cell_type": "code",
      "source": [
        "ordinal_encoder = OrdinalEncoder()\n",
        "encoding = ordinal_encoder.fit_transform(df[['Analysis']])\n",
        "print(\"Categories:\",ordinal_encoder.categories_)\n",
        "print(pd.DataFrame([x[0] for x in encoding]).value_counts())"
      ],
      "metadata": {
        "colab": {
          "base_uri": "https://localhost:8080/"
        },
        "id": "tiV9NcKeqisE",
        "outputId": "8bf90934-3c55-46ab-cda6-29f8ba99e531"
      },
      "execution_count": null,
      "outputs": [
        {
          "output_type": "stream",
          "name": "stdout",
          "text": [
            "Categories: [array(['Neutral', 'Strong Negative', 'Strong Positive', 'Weak Negative',\n",
            "       'Weak Positive'], dtype=object)]\n",
            "0.0    39\n",
            "4.0    33\n",
            "3.0    20\n",
            "1.0     4\n",
            "2.0     4\n",
            "dtype: int64\n"
          ]
        }
      ]
    },
    {
      "cell_type": "code",
      "source": [
        "df['Analysis'] = encoding"
      ],
      "metadata": {
        "id": "vRp7zOwdvQjB"
      },
      "execution_count": null,
      "outputs": []
    },
    {
      "cell_type": "markdown",
      "source": [
        "### Visualizing Correlations"
      ],
      "metadata": {
        "id": "zRTkXTrzDitK"
      }
    },
    {
      "cell_type": "code",
      "source": [
        "correlation = df[['Polarity','Subjectivity','TweetLen','Analysis']].corr(method=\"pearson\")\n",
        "correlation"
      ],
      "metadata": {
        "colab": {
          "base_uri": "https://localhost:8080/",
          "height": 175
        },
        "id": "f7VHdh6xnC4P",
        "outputId": "ee328e25-5330-4673-d9f5-73d5802398da"
      },
      "execution_count": null,
      "outputs": [
        {
          "output_type": "execute_result",
          "data": {
            "text/plain": [
              "              Polarity  Subjectivity  TweetLen  Analysis\n",
              "Polarity      1.000000     -0.123331  0.195907  0.292793\n",
              "Subjectivity -0.123331      1.000000  0.124133  0.441561\n",
              "TweetLen      0.195907      0.124133  1.000000  0.310843\n",
              "Analysis      0.292793      0.441561  0.310843  1.000000"
            ],
            "text/html": [
              "\n",
              "  <div id=\"df-80709f7c-54dd-4b12-a1ad-4e988238f099\">\n",
              "    <div class=\"colab-df-container\">\n",
              "      <div>\n",
              "<style scoped>\n",
              "    .dataframe tbody tr th:only-of-type {\n",
              "        vertical-align: middle;\n",
              "    }\n",
              "\n",
              "    .dataframe tbody tr th {\n",
              "        vertical-align: top;\n",
              "    }\n",
              "\n",
              "    .dataframe thead th {\n",
              "        text-align: right;\n",
              "    }\n",
              "</style>\n",
              "<table border=\"1\" class=\"dataframe\">\n",
              "  <thead>\n",
              "    <tr style=\"text-align: right;\">\n",
              "      <th></th>\n",
              "      <th>Polarity</th>\n",
              "      <th>Subjectivity</th>\n",
              "      <th>TweetLen</th>\n",
              "      <th>Analysis</th>\n",
              "    </tr>\n",
              "  </thead>\n",
              "  <tbody>\n",
              "    <tr>\n",
              "      <th>Polarity</th>\n",
              "      <td>1.000000</td>\n",
              "      <td>-0.123331</td>\n",
              "      <td>0.195907</td>\n",
              "      <td>0.292793</td>\n",
              "    </tr>\n",
              "    <tr>\n",
              "      <th>Subjectivity</th>\n",
              "      <td>-0.123331</td>\n",
              "      <td>1.000000</td>\n",
              "      <td>0.124133</td>\n",
              "      <td>0.441561</td>\n",
              "    </tr>\n",
              "    <tr>\n",
              "      <th>TweetLen</th>\n",
              "      <td>0.195907</td>\n",
              "      <td>0.124133</td>\n",
              "      <td>1.000000</td>\n",
              "      <td>0.310843</td>\n",
              "    </tr>\n",
              "    <tr>\n",
              "      <th>Analysis</th>\n",
              "      <td>0.292793</td>\n",
              "      <td>0.441561</td>\n",
              "      <td>0.310843</td>\n",
              "      <td>1.000000</td>\n",
              "    </tr>\n",
              "  </tbody>\n",
              "</table>\n",
              "</div>\n",
              "      <button class=\"colab-df-convert\" onclick=\"convertToInteractive('df-80709f7c-54dd-4b12-a1ad-4e988238f099')\"\n",
              "              title=\"Convert this dataframe to an interactive table.\"\n",
              "              style=\"display:none;\">\n",
              "        \n",
              "  <svg xmlns=\"http://www.w3.org/2000/svg\" height=\"24px\"viewBox=\"0 0 24 24\"\n",
              "       width=\"24px\">\n",
              "    <path d=\"M0 0h24v24H0V0z\" fill=\"none\"/>\n",
              "    <path d=\"M18.56 5.44l.94 2.06.94-2.06 2.06-.94-2.06-.94-.94-2.06-.94 2.06-2.06.94zm-11 1L8.5 8.5l.94-2.06 2.06-.94-2.06-.94L8.5 2.5l-.94 2.06-2.06.94zm10 10l.94 2.06.94-2.06 2.06-.94-2.06-.94-.94-2.06-.94 2.06-2.06.94z\"/><path d=\"M17.41 7.96l-1.37-1.37c-.4-.4-.92-.59-1.43-.59-.52 0-1.04.2-1.43.59L10.3 9.45l-7.72 7.72c-.78.78-.78 2.05 0 2.83L4 21.41c.39.39.9.59 1.41.59.51 0 1.02-.2 1.41-.59l7.78-7.78 2.81-2.81c.8-.78.8-2.07 0-2.86zM5.41 20L4 18.59l7.72-7.72 1.47 1.35L5.41 20z\"/>\n",
              "  </svg>\n",
              "      </button>\n",
              "      \n",
              "  <style>\n",
              "    .colab-df-container {\n",
              "      display:flex;\n",
              "      flex-wrap:wrap;\n",
              "      gap: 12px;\n",
              "    }\n",
              "\n",
              "    .colab-df-convert {\n",
              "      background-color: #E8F0FE;\n",
              "      border: none;\n",
              "      border-radius: 50%;\n",
              "      cursor: pointer;\n",
              "      display: none;\n",
              "      fill: #1967D2;\n",
              "      height: 32px;\n",
              "      padding: 0 0 0 0;\n",
              "      width: 32px;\n",
              "    }\n",
              "\n",
              "    .colab-df-convert:hover {\n",
              "      background-color: #E2EBFA;\n",
              "      box-shadow: 0px 1px 2px rgba(60, 64, 67, 0.3), 0px 1px 3px 1px rgba(60, 64, 67, 0.15);\n",
              "      fill: #174EA6;\n",
              "    }\n",
              "\n",
              "    [theme=dark] .colab-df-convert {\n",
              "      background-color: #3B4455;\n",
              "      fill: #D2E3FC;\n",
              "    }\n",
              "\n",
              "    [theme=dark] .colab-df-convert:hover {\n",
              "      background-color: #434B5C;\n",
              "      box-shadow: 0px 1px 3px 1px rgba(0, 0, 0, 0.15);\n",
              "      filter: drop-shadow(0px 1px 2px rgba(0, 0, 0, 0.3));\n",
              "      fill: #FFFFFF;\n",
              "    }\n",
              "  </style>\n",
              "\n",
              "      <script>\n",
              "        const buttonEl =\n",
              "          document.querySelector('#df-80709f7c-54dd-4b12-a1ad-4e988238f099 button.colab-df-convert');\n",
              "        buttonEl.style.display =\n",
              "          google.colab.kernel.accessAllowed ? 'block' : 'none';\n",
              "\n",
              "        async function convertToInteractive(key) {\n",
              "          const element = document.querySelector('#df-80709f7c-54dd-4b12-a1ad-4e988238f099');\n",
              "          const dataTable =\n",
              "            await google.colab.kernel.invokeFunction('convertToInteractive',\n",
              "                                                     [key], {});\n",
              "          if (!dataTable) return;\n",
              "\n",
              "          const docLinkHtml = 'Like what you see? Visit the ' +\n",
              "            '<a target=\"_blank\" href=https://colab.research.google.com/notebooks/data_table.ipynb>data table notebook</a>'\n",
              "            + ' to learn more about interactive tables.';\n",
              "          element.innerHTML = '';\n",
              "          dataTable['output_type'] = 'display_data';\n",
              "          await google.colab.output.renderOutput(dataTable, element);\n",
              "          const docLink = document.createElement('div');\n",
              "          docLink.innerHTML = docLinkHtml;\n",
              "          element.appendChild(docLink);\n",
              "        }\n",
              "      </script>\n",
              "    </div>\n",
              "  </div>\n",
              "  "
            ]
          },
          "metadata": {},
          "execution_count": 911
        }
      ]
    },
    {
      "cell_type": "markdown",
      "source": [
        "Darker Squares representing -ve correlation => inverse relationship<br>\n",
        "Brighter Squares representing +ve correlation => direct relationship<br>\n",
        "Mid/ Neutral Color => No relationship"
      ],
      "metadata": {
        "id": "Aj__ETSkETn1"
      }
    },
    {
      "cell_type": "code",
      "source": [
        "sns.heatmap(correlation, vmin=-0.6, vmax=1)"
      ],
      "metadata": {
        "colab": {
          "base_uri": "https://localhost:8080/",
          "height": 287
        },
        "id": "pLnr-1V1oJle",
        "outputId": "48a312f2-5f4d-4f65-9eea-3e8e17434e6a"
      },
      "execution_count": null,
      "outputs": [
        {
          "output_type": "execute_result",
          "data": {
            "text/plain": [
              "<matplotlib.axes._subplots.AxesSubplot at 0x7f6840fded90>"
            ]
          },
          "metadata": {},
          "execution_count": 912
        },
        {
          "output_type": "display_data",
          "data": {
            "text/plain": [
              "<Figure size 432x288 with 2 Axes>"
            ],
            "image/png": "[encoded data removed]"
          },
          "metadata": {
            "needs_background": "light"
          }
        }
      ]
    },
    {
      "cell_type": "markdown",
      "source": [
        "### A PairPlot Graphing Relationship Bw Different Attributes\n",
        "The diagonal plots are treated differently: a univariate distribution plot is drawn to show the marginal distribution of the data in each column."
      ],
      "metadata": {
        "id": "kJwAbJ-lC2WR"
      }
    },
    {
      "cell_type": "code",
      "source": [
        "sns.pairplot(data=df, kind=\"scatter\", hue=\"Analysis\", palette='flare')\n",
        "print(ordinal_encoder.categories_)\n",
        "print(pd.DataFrame([x[0] for x in encoding]).value_counts())"
      ],
      "metadata": {
        "colab": {
          "base_uri": "https://localhost:8080/",
          "height": 696
        },
        "id": "WXNcWCC5Avbx",
        "outputId": "d5db113a-ba21-4b51-920e-f80ad7081d57"
      },
      "execution_count": null,
      "outputs": [
        {
          "output_type": "stream",
          "name": "stdout",
          "text": [
            "[array(['Neutral', 'Strong Negative', 'Strong Positive', 'Weak Negative',\n",
            "       'Weak Positive'], dtype=object)]\n",
            "0.0    39\n",
            "4.0    33\n",
            "3.0    20\n",
            "1.0     4\n",
            "2.0     4\n",
            "dtype: int64\n"
          ]
        },
        {
          "output_type": "display_data",
          "data": {
            "text/plain": [
              "<Figure size 591.875x540 with 12 Axes>"
            ],
            "image/png": "[encoded data removed]"
          },
          "metadata": {
            "needs_background": "light"
          }
        }
      ]
    },
    {
      "cell_type": "code",
      "source": [
        "df[['Polarity','Subjectivity','TweetLen','Analysis']].cov()"
      ],
      "metadata": {
        "colab": {
          "base_uri": "https://localhost:8080/",
          "height": 175
        },
        "id": "8Pui5neXnw1F",
        "outputId": "3564312e-26a6-418c-b521-5063b4a023b4"
      },
      "execution_count": null,
      "outputs": [
        {
          "output_type": "execute_result",
          "data": {
            "text/plain": [
              "              Polarity  Subjectivity     TweetLen   Analysis\n",
              "Polarity      0.060940     -0.009426     2.287721   0.128280\n",
              "Subjectivity -0.009426      0.095853     1.817987   0.242628\n",
              "TweetLen      2.287721      1.817987  2237.704545  26.096970\n",
              "Analysis      0.128280      0.242628    26.096970   3.149899"
            ],
            "text/html": [
              "\n",
              "  <div id=\"df-23323104-67fe-4ed3-9151-20ebda4c47cd\">\n",
              "    <div class=\"colab-df-container\">\n",
              "      <div>\n",
              "<style scoped>\n",
              "    .dataframe tbody tr th:only-of-type {\n",
              "        vertical-align: middle;\n",
              "    }\n",
              "\n",
              "    .dataframe tbody tr th {\n",
              "        vertical-align: top;\n",
              "    }\n",
              "\n",
              "    .dataframe thead th {\n",
              "        text-align: right;\n",
              "    }\n",
              "</style>\n",
              "<table border=\"1\" class=\"dataframe\">\n",
              "  <thead>\n",
              "    <tr style=\"text-align: right;\">\n",
              "      <th></th>\n",
              "      <th>Polarity</th>\n",
              "      <th>Subjectivity</th>\n",
              "      <th>TweetLen</th>\n",
              "      <th>Analysis</th>\n",
              "    </tr>\n",
              "  </thead>\n",
              "  <tbody>\n",
              "    <tr>\n",
              "      <th>Polarity</th>\n",
              "      <td>0.060940</td>\n",
              "      <td>-0.009426</td>\n",
              "      <td>2.287721</td>\n",
              "      <td>0.128280</td>\n",
              "    </tr>\n",
              "    <tr>\n",
              "      <th>Subjectivity</th>\n",
              "      <td>-0.009426</td>\n",
              "      <td>0.095853</td>\n",
              "      <td>1.817987</td>\n",
              "      <td>0.242628</td>\n",
              "    </tr>\n",
              "    <tr>\n",
              "      <th>TweetLen</th>\n",
              "      <td>2.287721</td>\n",
              "      <td>1.817987</td>\n",
              "      <td>2237.704545</td>\n",
              "      <td>26.096970</td>\n",
              "    </tr>\n",
              "    <tr>\n",
              "      <th>Analysis</th>\n",
              "      <td>0.128280</td>\n",
              "      <td>0.242628</td>\n",
              "      <td>26.096970</td>\n",
              "      <td>3.149899</td>\n",
              "    </tr>\n",
              "  </tbody>\n",
              "</table>\n",
              "</div>\n",
              "      <button class=\"colab-df-convert\" onclick=\"convertToInteractive('df-23323104-67fe-4ed3-9151-20ebda4c47cd')\"\n",
              "              title=\"Convert this dataframe to an interactive table.\"\n",
              "              style=\"display:none;\">\n",
              "        \n",
              "  <svg xmlns=\"http://www.w3.org/2000/svg\" height=\"24px\"viewBox=\"0 0 24 24\"\n",
              "       width=\"24px\">\n",
              "    <path d=\"M0 0h24v24H0V0z\" fill=\"none\"/>\n",
              "    <path d=\"M18.56 5.44l.94 2.06.94-2.06 2.06-.94-2.06-.94-.94-2.06-.94 2.06-2.06.94zm-11 1L8.5 8.5l.94-2.06 2.06-.94-2.06-.94L8.5 2.5l-.94 2.06-2.06.94zm10 10l.94 2.06.94-2.06 2.06-.94-2.06-.94-.94-2.06-.94 2.06-2.06.94z\"/><path d=\"M17.41 7.96l-1.37-1.37c-.4-.4-.92-.59-1.43-.59-.52 0-1.04.2-1.43.59L10.3 9.45l-7.72 7.72c-.78.78-.78 2.05 0 2.83L4 21.41c.39.39.9.59 1.41.59.51 0 1.02-.2 1.41-.59l7.78-7.78 2.81-2.81c.8-.78.8-2.07 0-2.86zM5.41 20L4 18.59l7.72-7.72 1.47 1.35L5.41 20z\"/>\n",
              "  </svg>\n",
              "      </button>\n",
              "      \n",
              "  <style>\n",
              "    .colab-df-container {\n",
              "      display:flex;\n",
              "      flex-wrap:wrap;\n",
              "      gap: 12px;\n",
              "    }\n",
              "\n",
              "    .colab-df-convert {\n",
              "      background-color: #E8F0FE;\n",
              "      border: none;\n",
              "      border-radius: 50%;\n",
              "      cursor: pointer;\n",
              "      display: none;\n",
              "      fill: #1967D2;\n",
              "      height: 32px;\n",
              "      padding: 0 0 0 0;\n",
              "      width: 32px;\n",
              "    }\n",
              "\n",
              "    .colab-df-convert:hover {\n",
              "      background-color: #E2EBFA;\n",
              "      box-shadow: 0px 1px 2px rgba(60, 64, 67, 0.3), 0px 1px 3px 1px rgba(60, 64, 67, 0.15);\n",
              "      fill: #174EA6;\n",
              "    }\n",
              "\n",
              "    [theme=dark] .colab-df-convert {\n",
              "      background-color: #3B4455;\n",
              "      fill: #D2E3FC;\n",
              "    }\n",
              "\n",
              "    [theme=dark] .colab-df-convert:hover {\n",
              "      background-color: #434B5C;\n",
              "      box-shadow: 0px 1px 3px 1px rgba(0, 0, 0, 0.15);\n",
              "      filter: drop-shadow(0px 1px 2px rgba(0, 0, 0, 0.3));\n",
              "      fill: #FFFFFF;\n",
              "    }\n",
              "  </style>\n",
              "\n",
              "      <script>\n",
              "        const buttonEl =\n",
              "          document.querySelector('#df-23323104-67fe-4ed3-9151-20ebda4c47cd button.colab-df-convert');\n",
              "        buttonEl.style.display =\n",
              "          google.colab.kernel.accessAllowed ? 'block' : 'none';\n",
              "\n",
              "        async function convertToInteractive(key) {\n",
              "          const element = document.querySelector('#df-23323104-67fe-4ed3-9151-20ebda4c47cd');\n",
              "          const dataTable =\n",
              "            await google.colab.kernel.invokeFunction('convertToInteractive',\n",
              "                                                     [key], {});\n",
              "          if (!dataTable) return;\n",
              "\n",
              "          const docLinkHtml = 'Like what you see? Visit the ' +\n",
              "            '<a target=\"_blank\" href=https://colab.research.google.com/notebooks/data_table.ipynb>data table notebook</a>'\n",
              "            + ' to learn more about interactive tables.';\n",
              "          element.innerHTML = '';\n",
              "          dataTable['output_type'] = 'display_data';\n",
              "          await google.colab.output.renderOutput(dataTable, element);\n",
              "          const docLink = document.createElement('div');\n",
              "          docLink.innerHTML = docLinkHtml;\n",
              "          element.appendChild(docLink);\n",
              "        }\n",
              "      </script>\n",
              "    </div>\n",
              "  </div>\n",
              "  "
            ]
          },
          "metadata": {},
          "execution_count": 914
        }
      ]
    },
    {
      "cell_type": "markdown",
      "source": [
        "#Conclusion"
      ],
      "metadata": {
        "id": "Zu9j4UCTcIgx"
      }
    },
    {
      "cell_type": "markdown",
      "source": [
        "###Findings\n",
        "Through Out the Analysis, it came to notice that their exists no or minimal relationship between defined attributes ['Polarity', 'Subjectivity', 'Tweets Length'] but also it came into light that Length of the Tweets increases with the Opinion or the view become more Subjective.<br>\n",
        "\n",
        "Futher, noticed that for some searches the analysis did't perform well, the polarity and subjectivity check fails to find hidden sense/true meaning.<br>\n",
        "example: Below\n",
        "\n"
      ],
      "metadata": {
        "id": "BYc0UEGgcLx2"
      }
    },
    {
      "cell_type": "code",
      "source": [
        "polr = api.getPolarity(\"Taliban Government ban girl education for their own sake. #HateTaliban\")\n",
        "print(api.getAnalysis(polr))\n",
        "print(polr)"
      ],
      "metadata": {
        "colab": {
          "base_uri": "https://localhost:8080/"
        },
        "id": "h0Y37EQZhBwQ",
        "outputId": "e5585b2a-1042-49fd-84a5-a096de167136"
      },
      "execution_count": null,
      "outputs": [
        {
          "output_type": "stream",
          "name": "stdout",
          "text": [
            "Strong Positive\n",
            "0.6\n"
          ]
        }
      ]
    },
    {
      "cell_type": "markdown",
      "source": [
        "Also, Notice that the analysis neglect Emoji's ( Symbol Notation to represent emotions ) which can be most useful in understanding text emotions. 😀 😠 🔥 💖"
      ],
      "metadata": {
        "id": "Vpthwj84kRQo"
      }
    },
    {
      "cell_type": "markdown",
      "source": [
        "Example"
      ],
      "metadata": {
        "id": "CNW5m5Ps-jmq"
      }
    },
    {
      "cell_type": "code",
      "source": [
        "print(emoji.emojize(\":face_with_tears_of_joy:\"))\n",
        "print(\"Polarity: \",api.getPolarity(emoji.emojize(\":face_with_tears_of_joy:\")))"
      ],
      "metadata": {
        "colab": {
          "base_uri": "https://localhost:8080/"
        },
        "id": "ubbXHbpN64vq",
        "outputId": "8435291a-5f20-41bc-afdd-d2eec72543b5"
      },
      "execution_count": null,
      "outputs": [
        {
          "output_type": "stream",
          "name": "stdout",
          "text": [
            "😂\n",
            "Polarity:  0.0\n"
          ]
        }
      ]
    },
    {
      "cell_type": "code",
      "source": [
        "emojis = adv.extract_emoji(df['Tweets'])\n",
        "print(emojis.keys())"
      ],
      "metadata": {
        "colab": {
          "base_uri": "https://localhost:8080/"
        },
        "id": "WqZ5L8M7xdsL",
        "outputId": "a565e699-6528-41ea-95c5-d28338da5612"
      },
      "execution_count": null,
      "outputs": [
        {
          "output_type": "stream",
          "name": "stdout",
          "text": [
            "dict_keys(['emoji', 'emoji_text', 'emoji_flat', 'emoji_flat_text', 'emoji_counts', 'emoji_freq', 'top_emoji', 'top_emoji_text', 'top_emoji_groups', 'top_emoji_sub_groups', 'overview'])\n"
          ]
        },
        {
          "output_type": "execute_result",
          "data": {
            "text/plain": [
              "['🆘', '🆘', '🇺🇦', '🆘', '🆘', '🤩', '😝', '😂', '😂', '🇺🇦']"
            ]
          },
          "metadata": {},
          "execution_count": 746
        }
      ]
    },
    {
      "cell_type": "code",
      "source": [
        "print(emojis['top_emoji'])\n",
        "print(emojis['top_emoji_sub_groups'])\n",
        "print(emojis['top_emoji_text'])"
      ],
      "metadata": {
        "colab": {
          "base_uri": "https://localhost:8080/"
        },
        "id": "HVAGhgN33z7Q",
        "outputId": "63132506-f73d-4224-dcf6-60c1bcb5aefa"
      },
      "execution_count": null,
      "outputs": [
        {
          "output_type": "stream",
          "name": "stdout",
          "text": [
            "[('🆘', 4), ('🇺🇦', 2), ('😂', 2), ('🤩', 1), ('😝', 1)]\n",
            "[('alphanum', 4), ('country-flag', 2), ('face-smiling', 2), ('face-affection', 1), ('face-tongue', 1)]\n",
            "[('SOS button', 4), ('flag: Ukraine', 2), ('face with tears of joy', 2), ('star-struck', 1), ('squinting face with tongue', 1)]\n"
          ]
        }
      ]
    },
    {
      "cell_type": "markdown",
      "source": [
        "<ol><h3>Approach to tackle emoji sentiment:</h3>\n",
        "<li>demojize emoji to text</li>\n",
        "<li>get text polarity</li>\n",
        "</ol>"
      ],
      "metadata": {
        "id": "N4uAjAfw-xPb"
      }
    },
    {
      "cell_type": "code",
      "source": [
        "text1 = emoji.emojize(\"you are happy because she is good :angry_face:\")\n",
        "text2 = \"you are happy because she is good\"\n",
        "print(text1,text2,sep=\"\\n\")\n",
        "text1 = emoji.demojize(emoji.emojize(text1))\n",
        "text1 = text1.replace(\"_\",\" \")\n",
        "text1 = text1.replace(\":\",\"\")\n",
        "print(\"Altered text1:\", text1)\n",
        "print(\"text1\",api.getPolarity(text1))\n",
        "print(\"text2\",api.getPolarity(text2))"
      ],
      "metadata": {
        "colab": {
          "base_uri": "https://localhost:8080/"
        },
        "id": "d0OPmFbZ8NUe",
        "outputId": "14d2361a-7e43-44ff-9c6d-69a065d4e373"
      },
      "execution_count": null,
      "outputs": [
        {
          "output_type": "stream",
          "name": "stdout",
          "text": [
            "you are happy because she is good 😠\n",
            "you are happy because she is good\n",
            "Altered text1: you are happy because she is good angry face\n",
            "text1 0.3333333333333333\n",
            "text2 0.75\n"
          ]
        }
      ]
    },
    {
      "cell_type": "code",
      "source": [
        "print(\"Thank you\\n{}, {} and {}\\nFor Guiding Us Through-Out Our Project\".format(\"Neha Aggarwal Ma'am\",\"Online Resource Creators\",\"pypi.org Python Docs Library\"))"
      ],
      "metadata": {
        "id": "PoQc7yr4yBHj",
        "colab": {
          "base_uri": "https://localhost:8080/"
        },
        "outputId": "99fe8d33-2e3d-4c7b-f3c6-1ae0d0e25071"
      },
      "execution_count": null,
      "outputs": [
        {
          "output_type": "stream",
          "name": "stdout",
          "text": [
            "Thank you\n",
            "Neha Aggarwal Ma'am, Online Resource Creators and pypi.org Python Docs Library\n",
            "For Guiding Us Through-Out Our Project\n"
          ]
        }
      ]
    },
    {
      "cell_type": "code",
      "source": [
        "print(\"Link Google Colab: {}\".format(\"https://colab.research.google.com/drive/1j2Ul8AbMI_tbDhfnw_NSOcWpq76pR-9-?usp=sharing\"))"
      ],
      "metadata": {
        "id": "FSQPDVV_Ju3p",
        "colab": {
          "base_uri": "https://localhost:8080/"
        },
        "outputId": "46c499c3-7b5c-4dab-e255-c7f880f7838c"
      },
      "execution_count": null,
      "outputs": [
        {
          "output_type": "stream",
          "name": "stdout",
          "text": [
            "Link Google Colab: https://colab.research.google.com/drive/1j2Ul8AbMI_tbDhfnw_NSOcWpq76pR-9-?usp=sharing\n"
          ]
        }
      ]
    },
    {
      "cell_type": "code",
      "source": [
        "%%capture\n",
        "!wget -nc https://raw.githubusercontent.com/brpy/colab-pdf/master/colab_pdf.py\n",
        "from colab_pdf import colab_pdf\n",
        "colab_pdf('twitter-sentimental-analysis.ipynb')"
      ],
      "metadata": {
        "id": "8QnfTirN3VCu"
      },
      "execution_count": null,
      "outputs": []
    },
    {
      "cell_type": "code",
      "source": [],
      "metadata": {
        "id": "-_W9RBnVJz7W"
      },
      "execution_count": null,
      "outputs": []
    }
  ]
}
