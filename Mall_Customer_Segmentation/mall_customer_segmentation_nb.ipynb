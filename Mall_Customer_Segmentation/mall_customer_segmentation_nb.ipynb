{
 "cells": [
  {
   "cell_type": "markdown",
   "id": "dffc0ac0",
   "metadata": {},
   "source": [
    "### Dataset Description\n",
    "The Mall Customers Dataset provides data on 200 individuals who visit a mall, including demographic information, annual income, and spending habits. This dataset is useful for exploratory data analysis, customer segmentation, and clustering tasks (e.g., K-means clustering).\n",
    "\n",
    "- `CustomerID`: A unique identifier for each customer (integer).\n",
    "- `Genre`: The gender of the customer (Male/Female).\n",
    "- `Age`: The age of the customer (integer).\n",
    "- `Annual Income (k$)`: Annual income of the customer in thousands of dollars (integer).\n",
    "- `Spending Score (1-100)`: A score assigned by the mall based on customer behavior and spending patterns (integer).\n",
    "\n",
    "#### Link to Dataset\n",
    "- [Kaggle | Mall Customer Segmentation](https://www.kaggle.com/datasets/abdallahwagih/mall-customers-segmentation/data)"
   ]
  },
  {
   "cell_type": "markdown",
   "id": "b9f434e3",
   "metadata": {},
   "source": [
    "### Problem Statement"
   ]
  },
  {
   "cell_type": "markdown",
   "id": "a37fd448",
   "metadata": {},
   "source": [
    "### Approach to Solution\n",
    "1. Data Validation\n",
    "    - 1.1 Check Missing Values\n",
    "    - 1.2 Check Duplicated Entries\n",
    "2. Exploratory Data Analysis\n",
    "    - 2.1 Dataset Info\n",
    "    - 2.2 Key Variables Distribution\n",
    "    - 2.3 Correlation Analysis\n",
    "3. Dimensionality Reduction\n",
    "    - 3.1 PCA\n",
    "4. Data Preprocessing\n",
    "    - 4.1 Data Pipeline\n",
    "        - 4.1.1 Standardization\n",
    "        - 4.1.2 Encoding Categorical\n",
    "5. Modelling\n",
    "    - 5.1. Multiple Linear Regression\n",
    "        - 5.1.1. Model Training\n",
    "        - 5.1.2. Hyperparameter Tuning\n",
    "    - 5.2. K-Nearest Neighbors (KNN)\n",
    "        - 5.2.1. Model Training\n",
    "        - 5.2.2. Hyperparameter Tuning\n",
    "    - 5.3. Train-Test Split\n",
    "6. Model Evaluation\n",
    "    - 6.1. Multiple Linear Regression Performance\n",
    "    - 6.2. KNN Performance\n",
    "    - 6.3. Model Comparison\n",
    "7. Research Questions\n",
    "    - 7.1. Most Influential Variables\n",
    "    - 7.2. Comparison of Model Performance\n",
    "    - 7.3. Impact of Data Preprocessing\n",
    "    - 7.4. Insights from EDA"
   ]
  },
  {
   "cell_type": "markdown",
   "id": "8a64db0b",
   "metadata": {},
   "source": [
    "### *Pre-requistes dependencies"
   ]
  },
  {
   "cell_type": "code",
   "execution_count": 12,
   "id": "cec18467",
   "metadata": {},
   "outputs": [],
   "source": [
    "!pip install --quiet pandas numpy matplotlib seaborn scikit-learn jupyter notebook"
   ]
  },
  {
   "cell_type": "markdown",
   "id": "fa84b03f",
   "metadata": {},
   "source": [
    "### 1. Data Validation"
   ]
  },
  {
   "cell_type": "code",
   "execution_count": 1,
   "id": "74e7b1a5",
   "metadata": {},
   "outputs": [
    {
     "name": "stdout",
     "output_type": "stream",
     "text": [
      "C:\\Users\\visha\\OneDrive\\Documents\\GitHub\\Data-Science-Stuff\\Mall_Customer_Segmentation\n"
     ]
    }
   ],
   "source": [
    "!cd"
   ]
  },
  {
   "cell_type": "code",
   "execution_count": 9,
   "id": "180e9c5b",
   "metadata": {},
   "outputs": [],
   "source": [
    "# import neccessary libraries\n",
    "import pandas as pd\n",
    "import numpy as np \n",
    "import matplotlib.pyplot as plt \n",
    "import seaborn as sns\n",
    "import os\n",
    "\n",
    "\n",
    "# load dataset\n",
    "path_dataset = 'dataset/Mall_Customers.csv'\n",
    "\n",
    "# try except\n",
    "try:\n",
    "    # Check if the file exists\n",
    "    if not os.path.exists(os.path.join(os.getcwd(), path_dataset)):\n",
    "        raise FileNotFoundError(f\"File not found at {path_dataset}.\")\n",
    "    # Read the dataset\n",
    "    df = pd.read_csv(path_dataset)\n",
    "except FileNotFoundError:\n",
    "    print(f\"File not found at {path_dataset}. Please check the path and try again.\")"
   ]
  },
  {
   "cell_type": "code",
   "execution_count": 10,
   "id": "6adca435",
   "metadata": {},
   "outputs": [
    {
     "data": {
      "text/html": [
       "<div>\n",
       "<style scoped>\n",
       "    .dataframe tbody tr th:only-of-type {\n",
       "        vertical-align: middle;\n",
       "    }\n",
       "\n",
       "    .dataframe tbody tr th {\n",
       "        vertical-align: top;\n",
       "    }\n",
       "\n",
       "    .dataframe thead th {\n",
       "        text-align: right;\n",
       "    }\n",
       "</style>\n",
       "<table border=\"1\" class=\"dataframe\">\n",
       "  <thead>\n",
       "    <tr style=\"text-align: right;\">\n",
       "      <th></th>\n",
       "      <th>CustomerID</th>\n",
       "      <th>Genre</th>\n",
       "      <th>Age</th>\n",
       "      <th>Annual Income (k$)</th>\n",
       "      <th>Spending Score (1-100)</th>\n",
       "    </tr>\n",
       "  </thead>\n",
       "  <tbody>\n",
       "    <tr>\n",
       "      <th>0</th>\n",
       "      <td>1</td>\n",
       "      <td>Male</td>\n",
       "      <td>19</td>\n",
       "      <td>15</td>\n",
       "      <td>39</td>\n",
       "    </tr>\n",
       "    <tr>\n",
       "      <th>1</th>\n",
       "      <td>2</td>\n",
       "      <td>Male</td>\n",
       "      <td>21</td>\n",
       "      <td>15</td>\n",
       "      <td>81</td>\n",
       "    </tr>\n",
       "    <tr>\n",
       "      <th>2</th>\n",
       "      <td>3</td>\n",
       "      <td>Female</td>\n",
       "      <td>20</td>\n",
       "      <td>16</td>\n",
       "      <td>6</td>\n",
       "    </tr>\n",
       "    <tr>\n",
       "      <th>3</th>\n",
       "      <td>4</td>\n",
       "      <td>Female</td>\n",
       "      <td>23</td>\n",
       "      <td>16</td>\n",
       "      <td>77</td>\n",
       "    </tr>\n",
       "    <tr>\n",
       "      <th>4</th>\n",
       "      <td>5</td>\n",
       "      <td>Female</td>\n",
       "      <td>31</td>\n",
       "      <td>17</td>\n",
       "      <td>40</td>\n",
       "    </tr>\n",
       "  </tbody>\n",
       "</table>\n",
       "</div>"
      ],
      "text/plain": [
       "   CustomerID   Genre  Age  Annual Income (k$)  Spending Score (1-100)\n",
       "0           1    Male   19                  15                      39\n",
       "1           2    Male   21                  15                      81\n",
       "2           3  Female   20                  16                       6\n",
       "3           4  Female   23                  16                      77\n",
       "4           5  Female   31                  17                      40"
      ]
     },
     "execution_count": 10,
     "metadata": {},
     "output_type": "execute_result"
    }
   ],
   "source": [
    "# first 5 rows of the dataset\n",
    "df.head()"
   ]
  },
  {
   "cell_type": "code",
   "execution_count": 11,
   "metadata": {},
   "outputs": [
    {
     "data": {
      "text/plain": [
       "CustomerID                0\n",
       "Genre                     0\n",
       "Age                       0\n",
       "Annual Income (k$)        0\n",
       "Spending Score (1-100)    0\n",
       "dtype: int64"
      ]
     },
     "execution_count": 11,
     "metadata": {},
     "output_type": "execute_result"
    }
   ],
   "source": [
    "# missing values\n",
    "df.isnull().sum()"
   ]
  },
  {
   "cell_type": "code",
   "execution_count": 12,
   "metadata": {},
   "outputs": [
    {
     "data": {
      "text/plain": [
       "np.int64(0)"
      ]
     },
     "execution_count": 12,
     "metadata": {},
     "output_type": "execute_result"
    }
   ],
   "source": [
    "# check duplicates\n",
    "df.duplicated().sum()"
   ]
  },
  {
   "cell_type": "markdown",
   "metadata": {},
   "source": [
    "### 2. Exploratory Data Analysis"
   ]
  },
  {
   "cell_type": "code",
   "execution_count": null,
   "metadata": {},
   "outputs": [],
   "source": []
  },
  {
   "cell_type": "markdown",
   "metadata": {},
   "source": [
    "### 3. Dimensionality Reduction"
   ]
  },
  {
   "cell_type": "code",
   "execution_count": null,
   "id": "eebe2d52",
   "metadata": {},
   "outputs": [],
   "source": []
  },
  {
   "cell_type": "markdown",
   "metadata": {},
   "source": [
    "### 4. Data Preprocessing"
   ]
  },
  {
   "cell_type": "code",
   "execution_count": null,
   "metadata": {},
   "outputs": [],
   "source": []
  },
  {
   "cell_type": "markdown",
   "metadata": {},
   "source": [
    "### 5. Modelling"
   ]
  },
  {
   "cell_type": "code",
   "execution_count": null,
   "metadata": {},
   "outputs": [],
   "source": []
  },
  {
   "cell_type": "markdown",
   "metadata": {},
   "source": [
    "### 6. Model Evaluation"
   ]
  },
  {
   "cell_type": "code",
   "execution_count": null,
   "metadata": {},
   "outputs": [],
   "source": []
  },
  {
   "cell_type": "markdown",
   "metadata": {},
   "source": [
    "### 7. Research Questions"
   ]
  },
  {
   "cell_type": "code",
   "execution_count": null,
   "metadata": {},
   "outputs": [],
   "source": []
  },
  {
   "cell_type": "markdown",
   "metadata": {},
   "source": []
  }
 ],
 "metadata": {
  "kernelspec": {
   "display_name": "Python 3 (ipykernel)",
   "language": "python",
   "name": "python3"
  },
  "language_info": {
   "codemirror_mode": {
    "name": "ipython",
    "version": 3
   },
   "file_extension": ".py",
   "mimetype": "text/x-python",
   "name": "python",
   "nbconvert_exporter": "python",
   "pygments_lexer": "ipython3",
   "version": "3.13.1"
  }
 },
 "nbformat": 4,
 "nbformat_minor": 5
}
