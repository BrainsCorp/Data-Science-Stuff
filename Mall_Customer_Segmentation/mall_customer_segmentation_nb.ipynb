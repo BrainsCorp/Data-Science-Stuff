{
 "cells": [
  {
   "cell_type": "markdown",
   "id": "dffc0ac0",
   "metadata": {},
   "source": [
    "### Dataset Description\n",
    "The Mall Customers Dataset provides data on 200 individuals who visit a mall, including demographic information, annual income, and spending habits. This dataset is useful for exploratory data analysis, customer segmentation, and clustering tasks (e.g., K-means clustering).\n",
    "\n",
    "- `CustomerID`: A unique identifier for each customer (integer).\n",
    "- `Genre`: The gender of the customer (Male/Female).\n",
    "- `Age`: The age of the customer (integer).\n",
    "- `Annual Income (k$)`: Annual income of the customer in thousands of dollars (integer).\n",
    "- `Spending Score (1-100)`: A score assigned by the mall based on customer behavior and spending patterns (integer).\n",
    "\n",
    "#### Link to Dataset\n",
    "- [Kaggle | Mall Customer Segmentation](https://www.kaggle.com/datasets/abdallahwagih/mall-customers-segmentation/data)"
   ]
  },
  {
   "cell_type": "markdown",
   "id": "b9f434e3",
   "metadata": {},
   "source": [
    "### Problem Statement"
   ]
  },
  {
   "cell_type": "markdown",
   "id": "a37fd448",
   "metadata": {},
   "source": [
    "### Approach to Solution\n",
    "1. Data Validation\n",
    "    - 1.1 Check Missing Values\n",
    "    - 1.2 Check Duplicated Entries\n",
    "2. Exploratory Data Analysis\n",
    "    - 2.1 Dataset Info\n",
    "    - 2.2 Key Variables Distribution\n",
    "    - 2.3 Correlation Analysis\n",
    "3. Dimensionality Reduction\n",
    "    - 3.1 PCA\n",
    "4. Data Preprocessing\n",
    "    - 4.1 Data Pipeline\n",
    "        - 4.1.1 Standardization\n",
    "        - 4.1.2 Encoding Categorical\n",
    "5. Modelling\n",
    "    - 5.1. Multiple Linear Regression\n",
    "        - 5.1.1. Model Training\n",
    "        - 5.1.2. Hyperparameter Tuning\n",
    "    - 5.2. K-Nearest Neighbors (KNN)\n",
    "        - 5.2.1. Model Training\n",
    "        - 5.2.2. Hyperparameter Tuning\n",
    "    - 5.3. Train-Test Split\n",
    "6. Model Evaluation\n",
    "    - 6.1. Multiple Linear Regression Performance\n",
    "    - 6.2. KNN Performance\n",
    "    - 6.3. Model Comparison\n",
    "7. Research Questions\n",
    "    - 7.1. Most Influential Variables\n",
    "    - 7.2. Comparison of Model Performance\n",
    "    - 7.3. Impact of Data Preprocessing\n",
    "    - 7.4. Insights from EDA"
   ]
  },
  {
   "cell_type": "markdown",
   "metadata": {},
   "source": [
    "### *Pre-requistes dependencies"
   ]
  },
  {
   "cell_type": "code",
   "execution_count": 12,
   "metadata": {},
   "outputs": [],
   "source": [
    "!pip install --quiet pandas numpy matplotlib seaborn scikit-learn jupyter notebook"
   ]
  },
  {
   "cell_type": "markdown",
   "metadata": {},
   "source": [
    "### 1. Data Validation"
   ]
  },
  {
   "cell_type": "code",
   "execution_count": 1,
   "metadata": {},
   "outputs": [
    {
     "name": "stdout",
     "output_type": "stream",
     "text": [
      "C:\\Users\\visha\\OneDrive\\Documents\\GitHub\\Data-Science-Stuff\\Mall_Customer_Segmentation\n"
     ]
    }
   ],
   "source": [
    "!cd"
   ]
  },
  {
   "cell_type": "code",
   "execution_count": 2,
   "metadata": {},
   "outputs": [
    {
     "name": "stdout",
     "output_type": "stream",
     "text": [
      "File not found at /dataset/Mall_Customers.csv. Please check the path and try again.\n"
     ]
    }
   ],
   "source": [
    "# import neccessary libraries\n",
    "import pandas as pd\n",
    "import numpy as np \n",
    "import matplotlib.pyplot as plt \n",
    "import seaborn as sns\n",
    "import os\n",
    "\n",
    "\n",
    "# load dataset\n",
    "path_dataset = '/dataset/Mall_Customers.csv'\n",
    "\n",
    "# try except\n",
    "try:\n",
    "    # Check if the file exists\n",
    "    if not os.path.exists(os.path.join(os.getcwd(), path_dataset)):\n",
    "        raise FileNotFoundError(f\"File not found at {path_dataset}.\")\n",
    "    # Read the dataset\n",
    "    df = pd.read_csv(path_dataset)\n",
    "except FileNotFoundError:\n",
    "    print(f\"File not found at {path_dataset}. Please check the path and try again.\")"
   ]
  },
  {
   "cell_type": "code",
   "execution_count": 11,
   "metadata": {},
   "outputs": [
    {
     "ename": "NameError",
     "evalue": "name 'df' is not defined",
     "output_type": "error",
     "traceback": [
      "\u001b[31m---------------------------------------------------------------------------\u001b[39m",
      "\u001b[31mNameError\u001b[39m                                 Traceback (most recent call last)",
      "\u001b[36mCell\u001b[39m\u001b[36m \u001b[39m\u001b[32mIn[11]\u001b[39m\u001b[32m, line 2\u001b[39m\n\u001b[32m      1\u001b[39m \u001b[38;5;66;03m# first 5 rows of the dataset\u001b[39;00m\n\u001b[32m----> \u001b[39m\u001b[32m2\u001b[39m \u001b[43mdf\u001b[49m.head()\n",
      "\u001b[31mNameError\u001b[39m: name 'df' is not defined"
     ]
    }
   ],
   "source": [
    "# first 5 rows of the dataset\n",
    "df.head()"
   ]
  },
  {
   "cell_type": "code",
   "execution_count": null,
   "metadata": {},
   "outputs": [],
   "source": []
  }
 ],
 "metadata": {
  "kernelspec": {
   "display_name": "Python 3 (ipykernel)",
   "language": "python",
   "name": "python3"
  },
  "language_info": {
   "codemirror_mode": {
    "name": "ipython",
    "version": 3
   },
   "file_extension": ".py",
   "mimetype": "text/x-python",
   "name": "python",
   "nbconvert_exporter": "python",
   "pygments_lexer": "ipython3",
   "version": "3.13.1"
  }
 },
 "nbformat": 4,
 "nbformat_minor": 5
}
